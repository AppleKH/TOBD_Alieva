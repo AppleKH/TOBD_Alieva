{
  "cells": [
    {
      "cell_type": "markdown",
      "metadata": {
        "id": "h14mIM3IsSvD"
      },
      "source": [
        "# Работа со строковыми значениями"
      ]
    },
    {
      "cell_type": "markdown",
      "metadata": {
        "id": "ReV23FRSsSvX"
      },
      "source": [
        "## Задачи для совместного разбора"
      ]
    },
    {
      "cell_type": "code",
      "execution_count": 6,
      "metadata": {
        "id": "BV3HjM6VI_rC"
      },
      "outputs": [],
      "source": [
        "import re"
      ]
    },
    {
      "cell_type": "markdown",
      "metadata": {
        "id": "2CCqypsesSvZ"
      },
      "source": [
        "1. Вывести на экран данные из словаря `obj` построчно в виде `k = v`, задав формат таким образом, чтобы знак равенства оказался на одной и той же позиции во всех строках. Строковые литералы обернуть в кавычки."
      ]
    },
    {
      "cell_type": "code",
      "execution_count": 7,
      "metadata": {
        "id": "0JkfNMV8sSvb"
      },
      "outputs": [],
      "source": [
        "obj = {\n",
        "    \"home_page\": \"https://github.com/pypa/sampleproject\",\n",
        "    \"keywords\": \"sample setuptools development\",\n",
        "    \"license\": \"MIT\",\n",
        "}"
      ]
    },
    {
      "cell_type": "code",
      "execution_count": 8,
      "metadata": {
        "id": "uP3thS90tfyd",
        "colab": {
          "base_uri": "https://localhost:8080/"
        },
        "outputId": "23606d97-a2f7-43f1-8198-b6031778d301"
      },
      "outputs": [
        {
          "output_type": "stream",
          "name": "stdout",
          "text": [
            "'home_page' = 'https://github.com/pypa/sampleproject'\n",
            "'keywords'  = 'sample setuptools development'\n",
            "'license'   = 'MIT'\n"
          ]
        }
      ],
      "source": [
        "for i in obj:\n",
        "    print(\"'\"+ i+ \"'\"+'{:>{a}}'.format('= ', a = (len(max(obj, key=len))-len(i))+3)+ \"'\"+obj[i]+ \"'\")"
      ]
    },
    {
      "cell_type": "markdown",
      "metadata": {
        "id": "OUOZHg6VsSvm"
      },
      "source": [
        "2. Разбейте текст формулировки задачи 1 на слова. Составьте словарь в котором посчитано количество букв в каждом слове."
      ]
    },
    {
      "cell_type": "code",
      "execution_count": 9,
      "metadata": {
        "id": "axQ6JZZbtghJ",
        "colab": {
          "base_uri": "https://localhost:8080/"
        },
        "outputId": "36171257-e09a-46e4-a544-732764dede80"
      },
      "outputs": [
        {
          "output_type": "execute_result",
          "data": {
            "text/plain": [
              "{'Вывести': 7,\n",
              " 'на': 2,\n",
              " 'экран': 5,\n",
              " 'данные': 6,\n",
              " 'из': 2,\n",
              " 'словаря': 7,\n",
              " 'построчно': 9,\n",
              " 'в': 1,\n",
              " 'виде': 4,\n",
              " 'задав': 5,\n",
              " 'формат': 6,\n",
              " 'таким': 5,\n",
              " 'образом': 7,\n",
              " 'чтобы': 5,\n",
              " 'знак': 4,\n",
              " 'равенства': 9,\n",
              " 'оказался': 8,\n",
              " 'одной': 5,\n",
              " 'и': 1,\n",
              " 'той': 3,\n",
              " 'же': 2,\n",
              " 'позиции': 7,\n",
              " 'во': 2,\n",
              " 'всех': 4,\n",
              " 'строках': 7,\n",
              " 'Строковые': 9,\n",
              " 'литералы': 8,\n",
              " 'обернуть': 8,\n",
              " 'кавычки': 7}"
            ]
          },
          "metadata": {},
          "execution_count": 9
        }
      ],
      "source": [
        "s=\"Вывести на экран данные из словаря obj построчно в виде k = v, задав формат таким образом, чтобы знак равенства оказался на одной и той же позиции во всех строках. Строковые литералы обернуть в кавычки.\"#.split(\" \")\n",
        "p = re.compile(r'[а-яА-Я]+')\n",
        "s=p.findall(s)\n",
        "d={}\n",
        "for i in (s):\n",
        "    d.update({i:len(i)})\n",
        "d"
      ]
    },
    {
      "cell_type": "markdown",
      "metadata": {
        "id": "Ai_aq625sSvo"
      },
      "source": [
        "## Лабораторная работа 6.1"
      ]
    },
    {
      "cell_type": "markdown",
      "metadata": {
        "id": "47NpLlTpsSvr"
      },
      "source": [
        "### Форматирование строк"
      ]
    },
    {
      "cell_type": "markdown",
      "metadata": {
        "id": "BUuvTxSEsSvs"
      },
      "source": [
        "1\\. Загрузите данные из файла `recipes_sample.csv` (__ЛР2__) в виде `pd.DataFrame` `recipes` При помощи форматирования строк выведите информацию об id рецепта и времени выполнения 5 случайных рецептов в виде таблицы следующего вида:\n",
        "\n",
        "    \n",
        "    |      id      |  minutes  |\n",
        "    |--------------------------|\n",
        "    |    61178     |    65     |\n",
        "    |    202352    |    80     |\n",
        "    |    364322    |    150    |\n",
        "    |    26177     |    20     |\n",
        "    |    224785    |    35     |\n",
        "    \n",
        "Обратите внимание, что ширина столбцов заранее неизвестна и должна рассчитываться динамически, в зависимости от тех данных, которые были выбраны. "
      ]
    },
    {
      "cell_type": "code",
      "execution_count": 10,
      "metadata": {
        "id": "mIqGI0gWtebJ",
        "colab": {
          "base_uri": "https://localhost:8080/"
        },
        "outputId": "1eb1d047-4621-4a64-ed54-baeeb6788167"
      },
      "outputs": [
        {
          "output_type": "stream",
          "name": "stdout",
          "text": [
            "|      id      |  minutes  |\n",
            "|--------------------------|\n",
            "|    105605    |    45     |\n",
            "|    292392    |    40     |\n",
            "|    176519    |    25     |\n",
            "|    219626    |    15     |\n",
            "|    446848    |    105    |\n"
          ]
        }
      ],
      "source": [
        "import pandas as pd\n",
        "recipes =  pd.read_csv('recipes_sample.csv')\n",
        "df = recipes.sample(n=5)\n",
        "id=df['id'].values.tolist()\n",
        "minutes=df['minutes'].values.tolist()\n",
        "id_len=max(len(str(max(id))),len(str(min(id))))+8\n",
        "minutes_len=max(len(str(max(minutes))),len(str(min(minutes))))+8\n",
        "l=\"id\"\n",
        "k=\"minutes\"\n",
        "print(f\"|{l:^{id_len}}|{k:^{minutes_len}}|\")\n",
        "print(\"|\"+\"-\"*(id_len+1+minutes_len)+\"|\")\n",
        "for i in range (5):\n",
        "    print(f\"|{str(id[i]):^{id_len}}|{str(minutes[i]):^{minutes_len}}|\")"
      ]
    },
    {
      "cell_type": "markdown",
      "metadata": {
        "id": "DPPy2ISTsSvu"
      },
      "source": [
        "2\\. Напишите функцию `show_info`, которая по данным о рецепте создает строку (в смысле объекта python) с описанием следующего вида:\n",
        "\n",
        "```\n",
        "\"Название Из Нескольких Слов\"\n",
        "\n",
        "1. Шаг 1\n",
        "2. Шаг 2\n",
        "----------\n",
        "Автор: contributor_id\n",
        "Среднее время приготовления: minutes минут\n",
        "```\n",
        "\n",
        "    \n",
        "Данные для создания строки получите из файлов `recipes_sample.csv` (__ЛР2__) и `steps_sample.xml` (__ЛР3__). \n",
        "Вызовите данную функцию для рецепта с id `170895` и выведите (через `print`) полученную строку на экран."
      ]
    },
    {
      "cell_type": "code",
      "execution_count": 11,
      "metadata": {
        "id": "qfnwnkxvtbmN",
        "colab": {
          "base_uri": "https://localhost:8080/"
        },
        "outputId": "fe4b313c-2b59-4c3b-8355-00b84503edcc"
      },
      "outputs": [
        {
          "output_type": "stream",
          "name": "stdout",
          "text": [
            "\"George S At The Cove Black Bean Soup\"\n",
            "\n",
            "1. Clean the leeks and discard the dark green portions\n",
            "2. Cut the leeks lengthwise then into one-inch pieces\n",
            "3. Melt the butter in a medium skillet , med\n",
            "----------\n",
            "Автор: 35193\n",
            "Среднее время приготовления: 90 минут\n",
            "\n"
          ]
        }
      ],
      "source": [
        "def show_info(name,steps,minutes,author_id):\n",
        "    nl=\"\\n\"\n",
        "    stri=f'\"{name.title()}\"{nl*2}'#.capitalize ()\n",
        "    for i in range (len(steps)):\n",
        "        stri+=f'{i+1}. {steps[i].capitalize ()}{nl}'\n",
        "    stri+=f'----------{nl}Автор: {author_id}{nl}Среднее время приготовления: {minutes} минут{nl}'\n",
        "    return(stri)\n",
        "#show_info(recipes[recipes[\"id\"]==44123])\n",
        "print(show_info(\n",
        "        name=\"george s at the cove black bean soup\",\n",
        "        steps=[\n",
        "            \"clean the leeks and discard the dark green portions\",\n",
        "            \"cut the leeks lengthwise then into one-inch pieces\",\n",
        "            \"melt the butter in a medium skillet , med\",\n",
        "        ],\n",
        "        minutes=90,\n",
        "        author_id=35193,\n",
        "    ))"
      ]
    },
    {
      "cell_type": "code",
      "execution_count": 12,
      "metadata": {
        "id": "75alWUjjsSvx"
      },
      "outputs": [],
      "source": [
        "assert (\n",
        "    show_info(\n",
        "        name=\"george s at the cove black bean soup\",\n",
        "        steps=[\n",
        "            \"clean the leeks and discard the dark green portions\",\n",
        "            \"cut the leeks lengthwise then into one-inch pieces\",\n",
        "            \"melt the butter in a medium skillet , med\",\n",
        "        ],\n",
        "        minutes=90,\n",
        "        author_id=35193,\n",
        "    )\n",
        "    == '\"George S At The Cove Black Bean Soup\"\\n\\n1. Clean the leeks and discard the dark green portions\\n2. Cut the leeks lengthwise then into one-inch pieces\\n3. Melt the butter in a medium skillet , med\\n----------\\nАвтор: 35193\\nСреднее время приготовления: 90 минут\\n'\n",
        ")"
      ]
    },
    {
      "cell_type": "markdown",
      "metadata": {
        "id": "5PrgdirAsSv0"
      },
      "source": [
        "## Работа с регулярными выражениями"
      ]
    },
    {
      "cell_type": "markdown",
      "metadata": {
        "id": "8vCMDCm-sSv1"
      },
      "source": [
        "3\\. Напишите регулярное выражение, которое ищет следующий паттерн в строке: число (1 цифра или более), затем пробел, затем слова: hour или hours или minute или minutes. Произведите поиск по данному регулярному выражению в каждом шаге рецепта с id 25082. Выведите на экран все непустые результаты, найденные по данному шаблону."
      ]
    },
    {
      "cell_type": "code",
      "execution_count": 13,
      "metadata": {
        "id": "SxipK_IbsSv7",
        "colab": {
          "base_uri": "https://localhost:8080/"
        },
        "outputId": "567905b7-994b-4d1a-905b-0084262ff2c6"
      },
      "outputs": [
        {
          "output_type": "stream",
          "name": "stdout",
          "text": [
            "<step has_minutes=\"1\">turn out onto a lightly floured board and knead for about 20 minutes , adding flour as nescessary to keep the dough from sticking to the board</step>\n",
            "\n",
            "<step has_minutes=\"1\">when it has been sufficiently kneaded , cover it with a damp cloth for about 10 minutes and wash and grease the bowl lightly</step>\n",
            "\n",
            "<step has_hours=\"1\">let the dough rise until it springs back when you stick your finger in it , and it is about twice the size as it was before (this takes about 2 hours</step>\n",
            "\n",
            "<step has_minutes=\"1\">when the dough has risen twice , deflate it again and cover it with the damp cloth again for about 10 minutes , then divide it into and shape it into loaves , buns , etc</step>\n",
            "\n",
            "<step has_hours=\"1\">let the shaped dough rise on a baking sheet or in a loaf-pan for about an hour maybe- it will rise a bit more in the oven</step>\n",
            "\n",
            "<step has_minutes=\"1\">bake at 400 for 20 minutes , and then turn the oven down to 350 and bake for 20-30 minutes longer , until the loaf is a lovely brown and sounds hollow when you thump it on the bottom</step>\n",
            "\n"
          ]
        }
      ],
      "source": [
        "from bs4 import BeautifulSoup as bs\n",
        "import lxml\n",
        "\n",
        "with open(\"steps_sample.xml\", \"r\") as file:\n",
        "    content = file.readlines()\n",
        "    content = \"\".join(content)\n",
        "    bs_content = bs(content, \"xml\")\n",
        "\n",
        "for recipe in bs_content.find_all(\"recipe\"):\n",
        "\tif (recipe.id.text == \"25082\"):\n",
        "\t\tl1 = list(recipe.find_all(\"step\"))\n",
        "\n",
        "for i in l1:\n",
        "\tif (re.findall(r\"/d hour|hours|minute|minutes\", str(i))):\n",
        "\t\tprint(str(i), end=\"\\n\\n\")"
      ]
    }
  ],
  "metadata": {
    "colab": {
      "provenance": []
    },
    "kernelspec": {
      "display_name": "Python 3",
      "language": "python",
      "name": "python3"
    },
    "language_info": {
      "codemirror_mode": {
        "name": "ipython",
        "version": 3
      },
      "file_extension": ".py",
      "mimetype": "text/x-python",
      "name": "python",
      "nbconvert_exporter": "python",
      "pygments_lexer": "ipython3",
      "version": "3.8.3"
    }
  },
  "nbformat": 4,
  "nbformat_minor": 0
}