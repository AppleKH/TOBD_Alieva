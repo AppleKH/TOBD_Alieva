{
  "cells": [
    {
      "cell_type": "markdown",
      "metadata": {
        "id": "42to0UZutpui"
      },
      "source": [
        "# Работа со строковыми значениями"
      ]
    },
    {
      "cell_type": "markdown",
      "metadata": {
        "id": "HFlUvCPutpuy"
      },
      "source": [
        "## Задачи для совместного разбора"
      ]
    },
    {
      "cell_type": "markdown",
      "metadata": {
        "id": "2NyHw6m9tpu6"
      },
      "source": [
        "1. Написать регулярное выражение,которое позволит найти номера групп студентов."
      ]
    },
    {
      "cell_type": "code",
      "execution_count": 1,
      "metadata": {
        "id": "IVEVqMfTtpu8",
        "outputId": "9aa58a5f-7326-4f94-9a9a-cef17bcb9c01",
        "colab": {
          "base_uri": "https://localhost:8080/"
        }
      },
      "outputs": [
        {
          "output_type": "execute_result",
          "data": {
            "text/plain": [
              "0    Евгения гр.ПМ19-1\n",
              "1         Илья пм 20-4\n",
              "2            Хадя 20-1\n",
              "dtype: object"
            ]
          },
          "metadata": {},
          "execution_count": 1
        }
      ],
      "source": [
        "import re\n",
        "import pandas as pd\n",
        "obj = pd.Series([\"Евгения гр.ПМ19-1\", \"Илья пм 20-4\", \"Хадя 20-1\"])\n",
        "obj"
      ]
    },
    {
      "cell_type": "code",
      "execution_count": 2,
      "metadata": {
        "id": "osLRh3Wmt5E2",
        "colab": {
          "base_uri": "https://localhost:8080/"
        },
        "outputId": "a4453573-0f16-477e-f8b9-f792b04e61f6"
      },
      "outputs": [
        {
          "output_type": "stream",
          "name": "stdout",
          "text": [
            "19-1\n",
            "20-4\n",
            "20-1\n"
          ]
        }
      ],
      "source": [
        "p = re.compile(r'[0-2][0-9]-\\d')\n",
        "for i in (obj):\n",
        "    print(re.findall(p,i)[0])"
      ]
    },
    {
      "cell_type": "markdown",
      "metadata": {
        "id": "SHhJ-6eXtpvA"
      },
      "source": [
        "2. Разбейте текст формулировки задачи 2 на слова с помощью регулярных выражений. Составьте словарь, в котором в алфавитном порядке ключами выступают символы строки, а значениями - количество раз, сколько встречается этот символ."
      ]
    },
    {
      "cell_type": "code",
      "execution_count": 3,
      "metadata": {
        "id": "gKppqvHluGbl",
        "colab": {
          "base_uri": "https://localhost:8080/"
        },
        "outputId": "d6b7215c-0c3f-415a-fdcc-325de400e79b"
      },
      "outputs": [
        {
          "output_type": "stream",
          "name": "stdout",
          "text": [
            "['Разбейте', 'текст', 'формулировки', 'задачи', 'на', 'слова', 'с', 'помощью', 'регулярных', 'выражений', 'Составьте', 'словарь', 'в', 'котором', 'в', 'алфавитном', 'порядке', 'ключами', 'выступают', 'символы', 'строки', 'а', 'значениями', 'количество', 'раз', 'сколько', 'встречается', 'этот', 'символ']\n"
          ]
        },
        {
          "output_type": "execute_result",
          "data": {
            "text/plain": [
              "{' ': 30,\n",
              " ',': 3,\n",
              " '-': 1,\n",
              " '.': 2,\n",
              " '2': 1,\n",
              " 'Р': 1,\n",
              " 'С': 1,\n",
              " 'а': 16,\n",
              " 'б': 1,\n",
              " 'в': 13,\n",
              " 'г': 1,\n",
              " 'д': 2,\n",
              " 'е': 11,\n",
              " 'ж': 1,\n",
              " 'з': 4,\n",
              " 'и': 12,\n",
              " 'й': 2,\n",
              " 'к': 9,\n",
              " 'л': 10,\n",
              " 'м': 8,\n",
              " 'н': 6,\n",
              " 'о': 20,\n",
              " 'п': 3,\n",
              " 'р': 11,\n",
              " 'с': 13,\n",
              " 'т': 15,\n",
              " 'у': 3,\n",
              " 'ф': 2,\n",
              " 'х': 1,\n",
              " 'ч': 5,\n",
              " 'щ': 1,\n",
              " 'ы': 4,\n",
              " 'ь': 4,\n",
              " 'э': 1,\n",
              " 'ю': 3,\n",
              " 'я': 4}"
            ]
          },
          "metadata": {},
          "execution_count": 3
        }
      ],
      "source": [
        "s=\"Разбейте текст формулировки задачи 2 на слова с помощью регулярных выражений. Составьте словарь, в котором в алфавитном порядке ключами выступают символы строки, а значениями - количество раз, сколько встречается этот символ.\"\n",
        "p = re.compile(r'[а-яА-Я]+')\n",
        "print(p.findall(s)) \n",
        "\n",
        "{i: s.count(i) for i in sorted(s)}"
      ]
    },
    {
      "cell_type": "markdown",
      "metadata": {
        "id": "uEs9UL2FtpvD"
      },
      "source": [
        "## Лабораторная работа 6.2"
      ]
    },
    {
      "cell_type": "markdown",
      "metadata": {
        "id": "dILqf9oMtpvL"
      },
      "source": [
        "## Работа с регулярными выражениями"
      ]
    },
    {
      "cell_type": "markdown",
      "metadata": {
        "id": "YmeYgp_UuhXC"
      },
      "source": [
        "1\\. Загрузите данные из файла `recipes_sample.csv` (__ЛР2__) в виде `pd.DataFrame` `recipes` При помощи форматирования строк выведите информацию об id рецепта и времени выполнения 5 случайных рецептов в виде таблицы следующего вида:\n",
        "\n",
        "    \n",
        "    |      id      |  minutes  |\n",
        "    |--------------------------|\n",
        "    |*********61178|-----65----|\n",
        "    |********202352|-----80----|\n",
        "    |********364322|----150----|\n",
        "    |*********26177|-----20----|\n",
        "    |********224785|-----35----|\n",
        "    \n",
        "Обратите внимание, что ширина столбцов заранее неизвестна и должна рассчитываться динамически, в зависимости от тех данных, которые были выбраны. "
      ]
    },
    {
      "cell_type": "code",
      "execution_count": 4,
      "metadata": {
        "id": "9W4rnTMivzrd",
        "colab": {
          "base_uri": "https://localhost:8080/"
        },
        "outputId": "a372b99f-4607-4b89-f3b9-832fef7f2a4b"
      },
      "outputs": [
        {
          "output_type": "stream",
          "name": "stdout",
          "text": [
            "|      id      |  minutes  |\n",
            "|--------------------------|\n",
            "|*********69930|----65-----|\n",
            "|********100601|----25-----|\n",
            "|********261638|----60-----|\n",
            "|*********67617|----15-----|\n",
            "|********266505|----615----|\n"
          ]
        }
      ],
      "source": [
        "import pandas as pd\n",
        "recipes =  pd.read_csv(\"recipes_sample.csv\")#[['id', 'minutes']]\n",
        "df = recipes.sample(n=5)\n",
        "id=df['id'].values.tolist()\n",
        "minutes=df['minutes'].values.tolist()\n",
        "id_len=max(len(str(max(id))),len(str(min(id))))+8\n",
        "minutes_len=max(len(str(max(minutes))),len(str(min(minutes))))+8\n",
        "l=\"id\"\n",
        "k=\"minutes\"\n",
        "print(f\"|{l:^{id_len}}|{k:^{minutes_len}}|\")\n",
        "print(\"|\"+\"-\"*(id_len+1+minutes_len)+\"|\")\n",
        "for i in range (5):\n",
        "    print(f\"|{str(id[i]):*>{id_len}}|{str(minutes[i]):-^{minutes_len}}|\")"
      ]
    },
    {
      "cell_type": "markdown",
      "metadata": {
        "id": "Jkuok_LjtpvL"
      },
      "source": [
        "2\\. Напишите регулярное выражение, которое ищет следующий паттерн в строке: число (1 цифра или более), затем пробел, затем слова: hour или hours или minute или minutes. Произведите поиск по данному регулярному выражению в каждом шаге рецепта с id 25082. Выведите на экран все непустые результаты, найденные по данному шаблону."
      ]
    },
    {
      "cell_type": "code",
      "execution_count": 5,
      "metadata": {
        "id": "51sBxXe3vzJO",
        "colab": {
          "base_uri": "https://localhost:8080/"
        },
        "outputId": "2a36e73c-c2ea-4306-f4de-49ff374445c6"
      },
      "outputs": [
        {
          "output_type": "stream",
          "name": "stdout",
          "text": [
            "<step has_minutes=\"1\">turn out onto a lightly floured board and knead for about 20 minutes , adding flour as nescessary to keep the dough from sticking to the board</step>\n",
            "\n",
            "<step has_minutes=\"1\">when it has been sufficiently kneaded , cover it with a damp cloth for about 10 minutes and wash and grease the bowl lightly</step>\n",
            "\n",
            "<step has_hours=\"1\">let the dough rise until it springs back when you stick your finger in it , and it is about twice the size as it was before (this takes about 2 hours</step>\n",
            "\n",
            "<step has_minutes=\"1\">when the dough has risen twice , deflate it again and cover it with the damp cloth again for about 10 minutes , then divide it into and shape it into loaves , buns , etc</step>\n",
            "\n",
            "<step has_minutes=\"1\">bake at 400 for 20 minutes , and then turn the oven down to 350 and bake for 20-30 minutes longer , until the loaf is a lovely brown and sounds hollow when you thump it on the bottom</step>\n",
            "\n"
          ]
        }
      ],
      "source": [
        "from bs4 import BeautifulSoup as bs\n",
        "with open(\"steps_sample.xml\", \"r\") as file:\n",
        "    content = file.readlines()\n",
        "    content = \"\".join(content)\n",
        "    bs_content = bs(content, \"xml\")\n",
        " \n",
        "for recipe in bs_content.find_all(\"recipe\"):\n",
        "    if (recipe.id.text == \"25082\"):\n",
        "        l1 = list(recipe.find_all(\"step\"))\n",
        " \n",
        "for i in l1:\n",
        "    if (re.findall(r'\\d+\\s(?:hour|hours|minute|minutes)', str(i))):\n",
        "        print(str(i), end=\"\\n\\n\")"
      ]
    },
    {
      "cell_type": "markdown",
      "metadata": {
        "id": "uFumcuNbtpvM"
      },
      "source": [
        "3\\. Напишите регулярное выражение, которое ищет шаблон вида \"this..., but\" _в начале строки_ . Между словом \"this\" и частью \", but\" может находиться произвольное число букв, цифр, знаков подчеркивания и пробелов. Никаких других символов вместо многоточия быть не может. Пробел между запятой и словом \"but\" может присутствовать или отсутствовать.\n",
        "\n",
        "Используя строковые методы `pd.Series`, выясните, для каких рецептов данный шаблон содержится в тексте описания. Выведите на экран количество таких рецептов и 3 примера подходящих описаний (текст описания должен быть виден на экране полностью)."
      ]
    },
    {
      "cell_type": "code",
      "execution_count": 6,
      "metadata": {
        "id": "Dte2aMgqvyqd",
        "colab": {
          "base_uri": "https://localhost:8080/",
          "height": 257
        },
        "outputId": "6c0b87cc-12cb-41c0-ceea-9bf2b884c160"
      },
      "outputs": [
        {
          "output_type": "stream",
          "name": "stdout",
          "text": [
            "220\n"
          ]
        },
        {
          "output_type": "execute_result",
          "data": {
            "text/plain": [
              "                                      name      id  minutes  contributor_id  \\\n",
              "62                  rainbow chicken strips  192542       50          360369   \n",
              "131  15 minute shrimp carbonara fettuccine  140173       30           53959   \n",
              "246        90 minute beer brined pot roast  450975      160           50509   \n",
              "\n",
              "      submitted  n_steps                                        description  \\\n",
              "62   2006-10-28      NaN  okay, i probably didn't make this up, but i fe...   \n",
              "131  2005-10-05      4.0   haven't tried this yet, but it looked delicious.   \n",
              "246  2011-03-16     29.0  this recipe is by don mauer, a syndicated food...   \n",
              "\n",
              "     n_ingredients  \n",
              "62             5.0  \n",
              "131            8.0  \n",
              "246            NaN  "
            ],
            "text/html": [
              "\n",
              "  <div id=\"df-2c451a4c-3a26-4201-8c99-f0dbac9c747d\">\n",
              "    <div class=\"colab-df-container\">\n",
              "      <div>\n",
              "<style scoped>\n",
              "    .dataframe tbody tr th:only-of-type {\n",
              "        vertical-align: middle;\n",
              "    }\n",
              "\n",
              "    .dataframe tbody tr th {\n",
              "        vertical-align: top;\n",
              "    }\n",
              "\n",
              "    .dataframe thead th {\n",
              "        text-align: right;\n",
              "    }\n",
              "</style>\n",
              "<table border=\"1\" class=\"dataframe\">\n",
              "  <thead>\n",
              "    <tr style=\"text-align: right;\">\n",
              "      <th></th>\n",
              "      <th>name</th>\n",
              "      <th>id</th>\n",
              "      <th>minutes</th>\n",
              "      <th>contributor_id</th>\n",
              "      <th>submitted</th>\n",
              "      <th>n_steps</th>\n",
              "      <th>description</th>\n",
              "      <th>n_ingredients</th>\n",
              "    </tr>\n",
              "  </thead>\n",
              "  <tbody>\n",
              "    <tr>\n",
              "      <th>62</th>\n",
              "      <td>rainbow chicken strips</td>\n",
              "      <td>192542</td>\n",
              "      <td>50</td>\n",
              "      <td>360369</td>\n",
              "      <td>2006-10-28</td>\n",
              "      <td>NaN</td>\n",
              "      <td>okay, i probably didn't make this up, but i fe...</td>\n",
              "      <td>5.0</td>\n",
              "    </tr>\n",
              "    <tr>\n",
              "      <th>131</th>\n",
              "      <td>15 minute shrimp carbonara fettuccine</td>\n",
              "      <td>140173</td>\n",
              "      <td>30</td>\n",
              "      <td>53959</td>\n",
              "      <td>2005-10-05</td>\n",
              "      <td>4.0</td>\n",
              "      <td>haven't tried this yet, but it looked delicious.</td>\n",
              "      <td>8.0</td>\n",
              "    </tr>\n",
              "    <tr>\n",
              "      <th>246</th>\n",
              "      <td>90 minute beer brined pot roast</td>\n",
              "      <td>450975</td>\n",
              "      <td>160</td>\n",
              "      <td>50509</td>\n",
              "      <td>2011-03-16</td>\n",
              "      <td>29.0</td>\n",
              "      <td>this recipe is by don mauer, a syndicated food...</td>\n",
              "      <td>NaN</td>\n",
              "    </tr>\n",
              "  </tbody>\n",
              "</table>\n",
              "</div>\n",
              "      <button class=\"colab-df-convert\" onclick=\"convertToInteractive('df-2c451a4c-3a26-4201-8c99-f0dbac9c747d')\"\n",
              "              title=\"Convert this dataframe to an interactive table.\"\n",
              "              style=\"display:none;\">\n",
              "        \n",
              "  <svg xmlns=\"http://www.w3.org/2000/svg\" height=\"24px\"viewBox=\"0 0 24 24\"\n",
              "       width=\"24px\">\n",
              "    <path d=\"M0 0h24v24H0V0z\" fill=\"none\"/>\n",
              "    <path d=\"M18.56 5.44l.94 2.06.94-2.06 2.06-.94-2.06-.94-.94-2.06-.94 2.06-2.06.94zm-11 1L8.5 8.5l.94-2.06 2.06-.94-2.06-.94L8.5 2.5l-.94 2.06-2.06.94zm10 10l.94 2.06.94-2.06 2.06-.94-2.06-.94-.94-2.06-.94 2.06-2.06.94z\"/><path d=\"M17.41 7.96l-1.37-1.37c-.4-.4-.92-.59-1.43-.59-.52 0-1.04.2-1.43.59L10.3 9.45l-7.72 7.72c-.78.78-.78 2.05 0 2.83L4 21.41c.39.39.9.59 1.41.59.51 0 1.02-.2 1.41-.59l7.78-7.78 2.81-2.81c.8-.78.8-2.07 0-2.86zM5.41 20L4 18.59l7.72-7.72 1.47 1.35L5.41 20z\"/>\n",
              "  </svg>\n",
              "      </button>\n",
              "      \n",
              "  <style>\n",
              "    .colab-df-container {\n",
              "      display:flex;\n",
              "      flex-wrap:wrap;\n",
              "      gap: 12px;\n",
              "    }\n",
              "\n",
              "    .colab-df-convert {\n",
              "      background-color: #E8F0FE;\n",
              "      border: none;\n",
              "      border-radius: 50%;\n",
              "      cursor: pointer;\n",
              "      display: none;\n",
              "      fill: #1967D2;\n",
              "      height: 32px;\n",
              "      padding: 0 0 0 0;\n",
              "      width: 32px;\n",
              "    }\n",
              "\n",
              "    .colab-df-convert:hover {\n",
              "      background-color: #E2EBFA;\n",
              "      box-shadow: 0px 1px 2px rgba(60, 64, 67, 0.3), 0px 1px 3px 1px rgba(60, 64, 67, 0.15);\n",
              "      fill: #174EA6;\n",
              "    }\n",
              "\n",
              "    [theme=dark] .colab-df-convert {\n",
              "      background-color: #3B4455;\n",
              "      fill: #D2E3FC;\n",
              "    }\n",
              "\n",
              "    [theme=dark] .colab-df-convert:hover {\n",
              "      background-color: #434B5C;\n",
              "      box-shadow: 0px 1px 3px 1px rgba(0, 0, 0, 0.15);\n",
              "      filter: drop-shadow(0px 1px 2px rgba(0, 0, 0, 0.3));\n",
              "      fill: #FFFFFF;\n",
              "    }\n",
              "  </style>\n",
              "\n",
              "      <script>\n",
              "        const buttonEl =\n",
              "          document.querySelector('#df-2c451a4c-3a26-4201-8c99-f0dbac9c747d button.colab-df-convert');\n",
              "        buttonEl.style.display =\n",
              "          google.colab.kernel.accessAllowed ? 'block' : 'none';\n",
              "\n",
              "        async function convertToInteractive(key) {\n",
              "          const element = document.querySelector('#df-2c451a4c-3a26-4201-8c99-f0dbac9c747d');\n",
              "          const dataTable =\n",
              "            await google.colab.kernel.invokeFunction('convertToInteractive',\n",
              "                                                     [key], {});\n",
              "          if (!dataTable) return;\n",
              "\n",
              "          const docLinkHtml = 'Like what you see? Visit the ' +\n",
              "            '<a target=\"_blank\" href=https://colab.research.google.com/notebooks/data_table.ipynb>data table notebook</a>'\n",
              "            + ' to learn more about interactive tables.';\n",
              "          element.innerHTML = '';\n",
              "          dataTable['output_type'] = 'display_data';\n",
              "          await google.colab.output.renderOutput(dataTable, element);\n",
              "          const docLink = document.createElement('div');\n",
              "          docLink.innerHTML = docLinkHtml;\n",
              "          element.appendChild(docLink);\n",
              "        }\n",
              "      </script>\n",
              "    </div>\n",
              "  </div>\n",
              "  "
            ]
          },
          "metadata": {},
          "execution_count": 6
        }
      ],
      "source": [
        "df = recipes\n",
        "pattern = r\"this\\s*\\w*, ?but\"\n",
        "print(len(df[df.description.str.contains(pattern) == True]))\n",
        "df[df.description.str.contains(pattern) == True][:3]"
      ]
    },
    {
      "cell_type": "markdown",
      "metadata": {
        "id": "NRW2a7cKtpvN"
      },
      "source": [
        "4\\. В текстах шагов рецептов обыкновенные дроби имеют вид \"a / b\". Используя регулярные выражения, уберите в тексте шагов рецепта с id 72367 пробелы до и после символа дроби. Выведите на экран шаги этого рецепта после их изменения."
      ]
    },
    {
      "cell_type": "code",
      "execution_count": 7,
      "metadata": {
        "id": "9CUNOUdPvyLD",
        "colab": {
          "base_uri": "https://localhost:8080/"
        },
        "outputId": "65f72c00-752f-4ddc-e084-6c74672dd409"
      },
      "outputs": [
        {
          "output_type": "stream",
          "name": "stdout",
          "text": [
            "<step>mix butter , flour , 1/3 c</step>\n",
            "<step>sugar and 1-1/4 t</step>\n",
            "<step>vanilla</step>\n",
            "<step>press into greased 9\" springform pan</step>\n",
            "<step>mix cream cheese , 1/4 c</step>\n",
            "<step>sugar , eggs and 1/2 t</step>\n",
            "<step>vanilla beating until fluffy</step>\n",
            "<step>pour over dough</step>\n",
            "<step>combine apples , 1/3 c</step>\n",
            "<step>sugar and cinnamon</step>\n",
            "<step>arrange on top of cream cheese mixture and sprinkle with almonds</step>\n",
            "<step has_minutes=\"1\">bake at 350 for 45-55 minutes , or until tester comes out clean</step>\n"
          ]
        }
      ],
      "source": [
        "for recipe in bs_content.find_all(\"recipe\"):\n",
        "  if (recipe.id.text == \"72367\"):\n",
        "    l1 = list(recipe.find_all(\"step\"))\n",
        "\n",
        "for i in l1:\n",
        "  print(re.sub(r\" \\/ \", \"/\", str(i)))"
      ]
    },
    {
      "cell_type": "markdown",
      "metadata": {
        "id": "OkCN8IuMtpvN"
      },
      "source": [
        "### Сегментация текста"
      ]
    },
    {
      "cell_type": "markdown",
      "metadata": {
        "id": "jkG5YkpgtpvO"
      },
      "source": [
        "5\\. Разбейте тексты шагов рецептов на слова при помощи пакета `nltk`. Посчитайте и выведите на экран кол-во уникальных слов среди всех рецептов. Словом называется любая последовательность алфавитных символов (для проверки можно воспользоваться `str.isalpha`). При подсчете количества уникальных слов не учитывайте регистр."
      ]
    },
    {
      "cell_type": "code",
      "execution_count": 12,
      "metadata": {
        "id": "uQ2ohci8vx12",
        "colab": {
          "base_uri": "https://localhost:8080/"
        },
        "outputId": "369c8971-5319-4105-889a-f45e030e58cb"
      },
      "outputs": [
        {
          "output_type": "stream",
          "name": "stderr",
          "text": [
            "[nltk_data] Downloading package punkt to /root/nltk_data...\n",
            "[nltk_data]   Package punkt is already up-to-date!\n"
          ]
        },
        {
          "output_type": "execute_result",
          "data": {
            "text/plain": [
              "14929"
            ]
          },
          "metadata": {},
          "execution_count": 12
        }
      ],
      "source": [
        "from nltk.tokenize import word_tokenize\n",
        "nltk.download('punkt')\n",
        "def check_word(word: str) -> bool:\n",
        "\tfor i in word:\n",
        "\t\tif (not i.isalpha()):\n",
        "\t\t\treturn (False)\n",
        "\treturn (True)\n",
        "\n",
        "with open(\"steps_sample.xml\", \"r\") as file:\n",
        "\tdata = file.read()\n",
        "\n",
        "res = []\n",
        "tokens = word_tokenize(data)\n",
        "for i in tokens:\n",
        "\tif (check_word(i) == True and i not in res):\n",
        "\t\tres.append(i)\n",
        "\t\t\t\n",
        "len(res)"
      ]
    },
    {
      "cell_type": "markdown",
      "metadata": {
        "id": "7hEukt9ttpvO"
      },
      "source": [
        "6\\. Разбейте описания рецептов из `recipes` на предложения при помощи пакета `nltk`. Найдите 5 самых длинных описаний (по количеству _предложений_) рецептов в датасете и выведите строки фрейма, соответствующие этим рецептами, в порядке убывания длины."
      ]
    },
    {
      "cell_type": "code",
      "execution_count": 13,
      "metadata": {
        "id": "tXZeSGSivxaH",
        "colab": {
          "base_uri": "https://localhost:8080/"
        },
        "outputId": "0ed0172b-90ba-42a6-a220-bf9f42de10b5"
      },
      "outputs": [
        {
          "output_type": "stream",
          "name": "stdout",
          "text": [
            "        Unnamed: 0  user_id  recipe_id        date  rating  \\\n",
            "4478        873371    88732     200780  2010-01-01       5   \n",
            "4908       1012303  1607893     412644  2011-02-13       5   \n",
            "30765      1130180     6357      51255  2003-02-11       5   \n",
            "34695       206399    17803     215423  2008-03-01       5   \n",
            "37790      1012307  1598083     412644  2011-03-09       4   \n",
            "38760       873451    47892     200780  2011-01-20       4   \n",
            "47841      1012305   198602     412644  2011-02-15       5   \n",
            "56066       873373  1680722     200780  2011-01-17       5   \n",
            "77166      1012306  1168886     412644  2011-02-23       5   \n",
            "78419      1012302   382203     412644  2011-02-12       4   \n",
            "79881       873372  1320582     200780  2010-07-08       5   \n",
            "87799      1012304  1683962     412644  2011-02-14       4   \n",
            "89517      1110887   146783     177246  2006-12-24       3   \n",
            "109889      873370   463202     200780  2008-07-26       5   \n",
            "126122     1110888  1980949     177246  2011-08-12       5   \n",
            "\n",
            "                                                   review  \n",
            "4478    Do not be afraid to try this!  I followed the ...  \n",
            "4908    What a sweetheart of a recipe!  Thanks January...  \n",
            "30765   I halved this recipe and made it this afternoo...  \n",
            "34695   These were absolutely fantastic and the aroma ...  \n",
            "37790   This was very tasty. I had made extra shrimp a...  \n",
            "38760   This was easy to make although when it came ti...  \n",
            "47841   Made a lovely dinner of this, paired with bake...  \n",
            "56066   A is really a fabulous recipe. My children sai...  \n",
            "77166   AWESOME!  I have made this twice since last we...  \n",
            "78419   I served this as a starter for my dinner party...  \n",
            "79881   I doubled the filling amount and used diced ap...  \n",
            "87799   I made these for a Valentine's day dinner and ...  \n",
            "89517   This is certainly a healthier version of crabc...  \n",
            "109889  This is a spectacular bread.  And quite a spec...  \n",
            "126122  I made these, and was worried that they would ...  \n"
          ]
        }
      ],
      "source": [
        "import re\n",
        "from nltk.tokenize import word_tokenize\n",
        "from nltk.tokenize import sent_tokenize\n",
        "import nltk\n",
        "import pandas as pd\n",
        "import nltk\n",
        "\n",
        "df = pd.read_csv(\"reviews_sample.csv\")\n",
        "res = []\n",
        "tokenizer = {id_: 0 for id_ in df.recipe_id.to_list()}\n",
        "\n",
        "keys = df.recipe_id.to_list()\n",
        "values = df.review.to_list()\n",
        "\n",
        "for i in range(len(df.review.to_list())):\n",
        "    tokenizer[keys[i]] = values[i]\n",
        "\n",
        "for key, value in tokenizer.items():\n",
        "    tokenizer[key] = sent_tokenize(str(value))\n",
        "    tokenizer[key] = len(tokenizer[key])\n",
        "\n",
        "for i in range(0, 5):\n",
        "    final_dict = dict([max(tokenizer.items(), key=lambda k_v: k_v[1])])\n",
        "    tokenizer[list(final_dict.keys())[0]] = 0\n",
        "    res.append(list(final_dict.keys())[0])\n",
        "\n",
        "print(df[df['recipe_id'].isin(res)])"
      ]
    },
    {
      "cell_type": "markdown",
      "metadata": {
        "id": "FD2oX1fytpvP"
      },
      "source": [
        "7\\. Напишите функцию, которая для заданного предложения выводит информацию о частях речи слов, входящих в предложение, в следующем виде:\n",
        "```\n",
        "PRP   VBD   DT      NNS     CC   VBD      NNS        RB   \n",
        " I  omitted the raspberries and added strawberries instead\n",
        "``` \n",
        "Для определения части речи слова можно воспользоваться `nltk.pos_tag`.\n",
        "\n",
        "Проверьте работоспособность функции на названии рецепта с id 241106.\n",
        "\n",
        "Обратите внимание, что часть речи должна находиться ровно посередине над соотвествующим словом, а между самими словами должен быть ровно один пробел.\n"
      ]
    },
    {
      "cell_type": "code",
      "execution_count": 14,
      "metadata": {
        "id": "SQMFj8-HtpvP",
        "colab": {
          "base_uri": "https://localhost:8080/"
        },
        "outputId": "5f0ee42d-7574-4195-8e98-a4cf600cfcfc"
      },
      "outputs": [
        {
          "output_type": "stream",
          "name": "stdout",
          "text": [
            "PRP   VBD   DT      NNS     CC   VBD      NNS        RB   \n",
            " I  omitted the raspberries and added strawberries instead\n"
          ]
        },
        {
          "output_type": "stream",
          "name": "stderr",
          "text": [
            "[nltk_data] Downloading package punkt to /root/nltk_data...\n",
            "[nltk_data]   Package punkt is already up-to-date!\n",
            "[nltk_data] Downloading package averaged_perceptron_tagger to\n",
            "[nltk_data]     /root/nltk_data...\n",
            "[nltk_data]   Package averaged_perceptron_tagger is already up-to-\n",
            "[nltk_data]       date!\n"
          ]
        }
      ],
      "source": [
        "import nltk\n",
        "nltk.download('punkt')\n",
        "nltk.download('averaged_perceptron_tagger')\n",
        "sentence = \"\"\"I omitted the raspberries and added strawberries instead\"\"\"\n",
        "\n",
        "tokens = nltk.word_tokenize(sentence)\n",
        "tagged = nltk.pos_tag(tokens)\n",
        "\n",
        "windows = [max(len(word), len(part))for word, part in tagged]\n",
        "parts=[i[1] for i in (tagged)]\n",
        "print(*[f\"{part:^{window}s}\" for part, window in zip(parts, windows)])\n",
        "print(*[f\"{word:^{window}s}\" for word, window in zip(tokens, windows)])"
      ]
    },
    {
      "cell_type": "markdown",
      "metadata": {
        "id": "GFaqED9UKg5Z"
      },
      "source": [
        "8. Нарисовать вывод трех елочек. Елочка записывается, как показано ниже (https://fsymbols.com/ru/ascii-kartinki/). Удалите подчеркивания. Между соседними должно быть не менее 3 пробельных символов."
      ]
    }
  ],
  "metadata": {
    "colab": {
      "provenance": []
    },
    "kernelspec": {
      "display_name": "Python 3",
      "language": "python",
      "name": "python3"
    },
    "language_info": {
      "codemirror_mode": {
        "name": "ipython",
        "version": 3
      },
      "file_extension": ".py",
      "mimetype": "text/x-python",
      "name": "python",
      "nbconvert_exporter": "python",
      "pygments_lexer": "ipython3",
      "version": "3.8.3"
    }
  },
  "nbformat": 4,
  "nbformat_minor": 0
}