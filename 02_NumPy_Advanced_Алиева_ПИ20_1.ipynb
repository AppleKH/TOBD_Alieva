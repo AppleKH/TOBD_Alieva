{
  "cells": [
    {
      "cell_type": "code",
      "execution_count": 1,
      "metadata": {
        "id": "tGBlmAtqooN4"
      },
      "outputs": [],
      "source": [
        "import numpy as np"
      ]
    },
    {
      "cell_type": "code",
      "execution_count": 2,
      "metadata": {
        "id": "mUR_SQh2ooN6"
      },
      "outputs": [],
      "source": [
        "#1 "
      ]
    },
    {
      "cell_type": "code",
      "execution_count": 3,
      "metadata": {
        "id": "9qKA27EcooN6",
        "outputId": "c70c65f3-eed3-41b7-8664-45b76c7a863f",
        "colab": {
          "base_uri": "https://localhost:8080/"
        }
      },
      "outputs": [
        {
          "output_type": "execute_result",
          "data": {
            "text/plain": [
              "array([[  1,   2,   3,   4,   5,   6,   7],\n",
              "       [ 11,  12,  13,  14,  15,  16,  17],\n",
              "       [ 21,  22,  23,  24,  25,  26,  27],\n",
              "       [ 31,  32,  33,  34,  35,  36,  37],\n",
              "       [ 41,  42,  43,  44,  45,  46,  47],\n",
              "       [ 51,  52,  53,  54,  55,  56,  57],\n",
              "       [ 61,  62,  63,  64,  65,  66,  67],\n",
              "       [ 71,  72,  73,  74,  75,  76,  77],\n",
              "       [ 81,  82,  83,  84,  85,  86,  87],\n",
              "       [ 91,  92,  93,  94,  95,  96,  97],\n",
              "       [101, 102, 103, 104, 105, 106, 107]])"
            ]
          },
          "metadata": {},
          "execution_count": 3
        }
      ],
      "source": [
        "[np.arange(1,8,1)] + np.arange(0,110,10).reshape(11,1)"
      ]
    },
    {
      "cell_type": "code",
      "execution_count": 4,
      "metadata": {
        "id": "5V7Y2YiiooN7"
      },
      "outputs": [],
      "source": [
        "#2"
      ]
    },
    {
      "cell_type": "code",
      "execution_count": 5,
      "metadata": {
        "id": "4VbuAM7GooN7",
        "outputId": "3b9e2ede-b102-4633-84b2-d948ae4cc05f",
        "colab": {
          "base_uri": "https://localhost:8080/"
        }
      },
      "outputs": [
        {
          "output_type": "execute_result",
          "data": {
            "text/plain": [
              "array([  6,  20,  42,  72, 110, 156, 210, 272, 342, 420])"
            ]
          },
          "metadata": {},
          "execution_count": 5
        }
      ],
      "source": [
        "lis = np.arange(2,22)\n",
        "chet = lis[lis%2==0]\n",
        "nechet = lis[lis%2!=0]\n",
        "res = chet*nechet\n",
        "res"
      ]
    },
    {
      "cell_type": "code",
      "execution_count": 6,
      "metadata": {
        "id": "o5CbIeplooN7"
      },
      "outputs": [],
      "source": [
        "#3"
      ]
    },
    {
      "cell_type": "code",
      "execution_count": 7,
      "metadata": {
        "id": "uZp1dfNwooN7",
        "outputId": "742458cf-0f9f-4399-eb5b-9b2f46c8d307",
        "colab": {
          "base_uri": "https://localhost:8080/"
        }
      },
      "outputs": [
        {
          "output_type": "stream",
          "name": "stdout",
          "text": [
            "[1 2 7 8 9]\n"
          ]
        }
      ],
      "source": [
        "x = np.arange(0,11,1)\n",
        "t3 = x * np.sin(x)\n",
        "m = (0.5 < t3)\n",
        "m\n",
        "print(x[m])"
      ]
    },
    {
      "cell_type": "code",
      "execution_count": 8,
      "metadata": {
        "id": "d7dEjs4hooN8",
        "outputId": "d1bc7ffa-6851-4292-f1c3-5d409eb1b9f2",
        "colab": {
          "base_uri": "https://localhost:8080/"
        }
      },
      "outputs": [
        {
          "output_type": "stream",
          "name": "stdout",
          "text": [
            "[[ 2  7  1  9  6  6  6  6  4  1]\n",
            " [ 7  7  7  0  2  3  4  5  7  9]\n",
            " [ 9  0  2  1  4  4  9  4  5  6]\n",
            " [ 5  9  4  9 10  9  8  8  4 10]\n",
            " [ 7  1  5  7  3  9  3  2  6  3]\n",
            " [ 0  5  1  2  4  2  0  1  6  4]\n",
            " [ 5  8  6  3  6  2  0 10  5  5]\n",
            " [ 5 10  2  7  6  9  2  7  1  7]] [0 5 1 2 4 2 0 1 6 4] 5\n"
          ]
        }
      ],
      "source": [
        "#4\n",
        "a = np.random.randint(0,11,(8,10))\n",
        "b = np.argmin(np.sum(a,axis=1))\n",
        "print(a, a[b],b)"
      ]
    },
    {
      "cell_type": "code",
      "execution_count": 9,
      "metadata": {
        "id": "Kq7Q_fwoooN8",
        "outputId": "10b999a8-116a-4365-999e-23e22bc59fe9",
        "colab": {
          "base_uri": "https://localhost:8080/"
        }
      },
      "outputs": [
        {
          "output_type": "execute_result",
          "data": {
            "text/plain": [
              "6"
            ]
          },
          "metadata": {},
          "execution_count": 9
        }
      ],
      "source": [
        "#5\n",
        "a = np.random.randint(0,10,(3,3))\n",
        "b = np.random.randint(0,10,(3,3))\n",
        "res = sum(a[a>b])\n",
        "res"
      ]
    },
    {
      "cell_type": "code",
      "execution_count": 10,
      "metadata": {
        "id": "DPg5A6HBooN8",
        "outputId": "d4bd4a61-cd43-42c6-bcb2-b22b8c811fa0",
        "colab": {
          "base_uri": "https://localhost:8080/"
        }
      },
      "outputs": [
        {
          "output_type": "execute_result",
          "data": {
            "text/plain": [
              "array([[0, 1, 2, 0, 1, 2],\n",
              "       [3, 4, 5, 3, 4, 5],\n",
              "       [6, 7, 8, 6, 7, 8],\n",
              "       [0, 1, 2, 0, 1, 2],\n",
              "       [3, 4, 5, 3, 4, 5],\n",
              "       [6, 7, 8, 6, 7, 8]])"
            ]
          },
          "metadata": {},
          "execution_count": 10
        }
      ],
      "source": [
        "#6\n",
        "def func1(m,n):\n",
        "    arr1 = np.arange(0,n,1).reshape(int(m**0.5),int(m**0.5))\n",
        "    arr1 = np.vstack((arr1,arr1))\n",
        "    arr1 = np.hstack((arr1,arr1))\n",
        "    return(arr1)\n",
        "func1(9,9)"
      ]
    },
    {
      "cell_type": "code",
      "execution_count": 11,
      "metadata": {
        "id": "qIDQP1d5ooN9",
        "outputId": "928f2759-5061-465e-9d9d-9c37680174ae",
        "colab": {
          "base_uri": "https://localhost:8080/"
        }
      },
      "outputs": [
        {
          "output_type": "execute_result",
          "data": {
            "text/plain": [
              "array([ 1, 11, 13, 17, 19, 23, 29, 31, 37, 41, 43, 47, 53, 59, 61, 67, 71,\n",
              "       73, 79, 83, 89, 97])"
            ]
          },
          "metadata": {},
          "execution_count": 11
        }
      ],
      "source": [
        "#7\n",
        "arr = np.arange(0,100,1)\n",
        "arr = arr[(arr%2!=0)&(arr!=2)]\n",
        "arr = arr[(arr%3!=0)&(arr!=3)]\n",
        "arr = arr[(arr%5!=0)&(arr!=5)]\n",
        "arr = arr[(arr%7!=0)&(arr!=7)]\n",
        "arr"
      ]
    },
    {
      "cell_type": "code",
      "execution_count": 12,
      "metadata": {
        "id": "uW4qNbudooN9",
        "outputId": "1edc8991-4ebd-465b-a53f-4c8509f301a2",
        "colab": {
          "base_uri": "https://localhost:8080/"
        }
      },
      "outputs": [
        {
          "output_type": "execute_result",
          "data": {
            "text/plain": [
              "array(['a', 'e', 'w', 'q', 'q', 'rr', 't', 's', 'e', 's', 'q', 'q', 'rr',\n",
              "       'u', 's', 'i', 'q', 's', 's', 'u', 's', 'a', 't', 'w', 'u', 'e',\n",
              "       'y', 'w', 'w', 'rr', 'u', 't', 'rr', 't', 's', 'rr', 'e', 't', 'u',\n",
              "       'w', 't', 's', 'e', 'i', 'u', 'a', 'q', 'e', 'e', 'y', 'w', 'u',\n",
              "       's', 'rr', 'a', 'e', 's', 'u', 'a', 'rr', 'q', 'u', 'y', 'rr', 'y',\n",
              "       'y', 'i', 't', 'u', 'y', 'i', 'q', 'i', 'q', 't', 'rr', 'rr', 'e',\n",
              "       'y', 'w', 'i', 'e', 'e', 's', 'q', 'q', 'a', 't', 'q', 'q', 'y',\n",
              "       't', 'e', 'w', 'i', 's', 'rr', 'rr', 'i', 'y'], dtype='<U2')"
            ]
          },
          "metadata": {},
          "execution_count": 12
        }
      ],
      "source": [
        "#8\n",
        "arr = np.array(['a', 's', 'q','w','e','rr','t','y','u','i'])\n",
        "call = np.array(np.random.randint(0,10,100))\n",
        "arr[call]"
      ]
    },
    {
      "cell_type": "code",
      "execution_count": 13,
      "metadata": {
        "id": "7BFlbp5QooN9",
        "outputId": "dbf2dbe8-5485-48d9-8e40-d1223bd469e8",
        "colab": {
          "base_uri": "https://localhost:8080/"
        }
      },
      "outputs": [
        {
          "output_type": "execute_result",
          "data": {
            "text/plain": [
              "array([ 2,  9,  4,  8,  9, 10,  8,  1,  6,  0,  8,  9,  3,  7,  3,  9,  0,\n",
              "        7,  3])"
            ]
          },
          "metadata": {},
          "execution_count": 13
        }
      ],
      "source": [
        "#9\n",
        "id = np.random.randint(0,11,size=(20,20),dtype='int')\n",
        "np.diagonal(id,offset=1)"
      ]
    }
  ],
  "metadata": {
    "kernelspec": {
      "display_name": "Python 3",
      "language": "python",
      "name": "python3"
    },
    "language_info": {
      "codemirror_mode": {
        "name": "ipython",
        "version": 3
      },
      "file_extension": ".py",
      "mimetype": "text/x-python",
      "name": "python",
      "nbconvert_exporter": "python",
      "pygments_lexer": "ipython3",
      "version": "3.8.3"
    },
    "colab": {
      "provenance": [],
      "collapsed_sections": []
    }
  },
  "nbformat": 4,
  "nbformat_minor": 0
}