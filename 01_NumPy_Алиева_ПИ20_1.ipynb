{
  "cells": [
    {
      "cell_type": "markdown",
      "metadata": {
        "id": "shPhQEMf0FeA"
      },
      "source": [
        "# Numpy"
      ]
    },
    {
      "cell_type": "markdown",
      "metadata": {
        "id": "Rzpihv6X0FeG"
      },
      "source": [
        "Материалы:\n",
        "* Макрушин С.В. \"Лекция 1: Библиотека Numpy\"\n",
        "* https://numpy.org/doc/stable/user/index.html\n",
        "* https://numpy.org/doc/stable/reference/index.html"
      ]
    },
    {
      "cell_type": "markdown",
      "metadata": {
        "id": "I6FXd1NB0FeI"
      },
      "source": [
        "## Задачи для совместного разбора"
      ]
    },
    {
      "cell_type": "markdown",
      "metadata": {
        "id": "HVF75xlL0FeJ"
      },
      "source": [
        "1. Сгенерировать двухмерный массив `arr` размерности (4, 7), состоящий из случайных действительных чисел, равномерно распределенных в диапазоне от 0 до 20. Нормализовать значения массива с помощью преобразования вида  $𝑎𝑥+𝑏$  так, что после нормализации максимальный элемент масcива будет равен 1.0, минимальный 0.0"
      ]
    },
    {
      "cell_type": "code",
      "execution_count": 4,
      "metadata": {
        "id": "dT20yoPv0FeJ",
        "outputId": "f68852b8-4827-4d5f-d2bd-4769b0b0d570",
        "colab": {
          "base_uri": "https://localhost:8080/"
        }
      },
      "outputs": [
        {
          "output_type": "execute_result",
          "data": {
            "text/plain": [
              "array([[0.81491159, 0.17235854, 0.        , 0.38492801, 0.20637183,\n",
              "        1.        , 0.54068076],\n",
              "       [0.42550627, 0.61157121, 0.71286886, 0.12981523, 0.88064566,\n",
              "        0.06974923, 0.4867842 ],\n",
              "       [0.09598904, 0.85007462, 0.91578798, 0.72886673, 0.55565954,\n",
              "        0.32457632, 0.8245513 ],\n",
              "       [0.22078497, 0.14605808, 0.08055825, 0.3320415 , 0.33550479,\n",
              "        0.39652557, 0.85077493]])"
            ]
          },
          "metadata": {},
          "execution_count": 4
        }
      ],
      "source": [
        "import numpy as np\n",
        "\n",
        "arr = np.random.uniform(0, 20, (4, 7))\n",
        "a_min = np.min(arr)\n",
        "a_max = np.max(arr)\n",
        "(arr-a_min)/(np.amax(arr)-a_min)"
      ]
    },
    {
      "cell_type": "markdown",
      "metadata": {
        "id": "0EakCVVO0FeK"
      },
      "source": [
        "2. Создать матрицу 8 на 10 из случайных целых (используя модуль `numpy.random`) чисел из диапозона от 0 до 10 и найти в ней строку (ее индекс и вывести саму строку), в которой сумма значений минимальна."
      ]
    },
    {
      "cell_type": "code",
      "source": [
        "arr = np.random.randint(0, 10, size=(8, 10))\n",
        "#arr = np.array(range(0,80)).reshape(8, 10)\n",
        "arr"
      ],
      "metadata": {
        "id": "j88Z6E7R8A7w",
        "outputId": "7e5b7bbc-4406-4771-c819-0fbdc4a830e9",
        "colab": {
          "base_uri": "https://localhost:8080/"
        }
      },
      "execution_count": 5,
      "outputs": [
        {
          "output_type": "execute_result",
          "data": {
            "text/plain": [
              "array([[9, 4, 7, 4, 1, 7, 2, 7, 2, 0],\n",
              "       [3, 7, 6, 4, 2, 1, 0, 6, 2, 1],\n",
              "       [2, 7, 6, 7, 4, 0, 1, 8, 0, 2],\n",
              "       [0, 8, 4, 2, 0, 3, 1, 3, 4, 0],\n",
              "       [7, 8, 4, 6, 9, 3, 7, 0, 6, 6],\n",
              "       [1, 9, 9, 5, 1, 1, 2, 7, 9, 8],\n",
              "       [1, 9, 2, 1, 8, 6, 1, 2, 3, 4],\n",
              "       [9, 4, 3, 9, 6, 6, 4, 4, 2, 4]])"
            ]
          },
          "metadata": {},
          "execution_count": 5
        }
      ]
    },
    {
      "cell_type": "markdown",
      "metadata": {
        "id": "t35ZxPP10FeL"
      },
      "source": [
        "3. Найти евклидово расстояние между двумя одномерными векторами одинаковой размерности."
      ]
    },
    {
      "cell_type": "code",
      "source": [
        "arr1 = np.random.randint(0, 10, size=10)\n",
        "print(arr1)\n",
        "arr2 = np.random.randint(0, 10, size=10)\n",
        "print(arr2)\n",
        "dist_auto = np.linalg.norm(arr1-arr2)\n",
        "print(dist_auto)\n",
        "\n",
        "dist_manual = np.sum((arr1-arr2) ** 2) ** (1/2)\n",
        "print(dist_manual)\n",
        "\n",
        "print(dist_auto == dist_manual)"
      ],
      "metadata": {
        "id": "oio4Dfco8VsP",
        "outputId": "12d4e2df-880a-4843-c3f8-92fbac436bc9",
        "colab": {
          "base_uri": "https://localhost:8080/"
        }
      },
      "execution_count": 6,
      "outputs": [
        {
          "output_type": "stream",
          "name": "stdout",
          "text": [
            "[8 3 8 3 5 2 6 8 7 8]\n",
            "[8 6 7 3 9 2 2 3 9 5]\n",
            "8.94427190999916\n",
            "8.94427190999916\n",
            "True\n"
          ]
        }
      ]
    },
    {
      "cell_type": "markdown",
      "metadata": {
        "id": "LRGODs8m0FeM"
      },
      "source": [
        "4. Решить матричное уравнение `A*X*B=-C` - найти матрицу `X`. Где `A = [[-1, 2, 4], [-3, 1, 2], [-3, 0, 1]]`, `B=[[3, -1], [2, 1]]`, `C=[[7, 21], [11, 8], [8, 4]]`."
      ]
    },
    {
      "cell_type": "code",
      "source": [
        "a = np.matrix([[-1, 2, 4], [-3, 1, 2], [-3, 0, 1]])\n",
        "b = np.matrix([[3, -1], [2, 1]])\n",
        "c = np.matrix([[7, 21], [11, 8], [8, 4]])\n",
        "\n",
        "result1 = np.linalg.inv(a) @ -c @ np.linalg.inv(b)\n",
        "result1"
      ],
      "metadata": {
        "id": "H87DopQD94XJ",
        "outputId": "94defa6c-7571-4663-eed6-701bf5e7b7d0",
        "colab": {
          "base_uri": "https://localhost:8080/"
        }
      },
      "execution_count": 7,
      "outputs": [
        {
          "output_type": "execute_result",
          "data": {
            "text/plain": [
              "matrix([[ 1.00000000e+00,  5.32907052e-16],\n",
              "        [-2.00000000e+00,  1.00000000e+00],\n",
              "        [ 3.00000000e+00, -4.00000000e+00]])"
            ]
          },
          "metadata": {},
          "execution_count": 7
        }
      ]
    },
    {
      "cell_type": "markdown",
      "metadata": {
        "id": "3r31A4Yo0FeN"
      },
      "source": [
        "## Лабораторная работа №1"
      ]
    },
    {
      "cell_type": "markdown",
      "metadata": {
        "id": "zu29UE_v0FeN"
      },
      "source": [
        "Замечание: при решении данных задач не подразумевается использования циклов или генераторов Python, если в задании не сказано обратного. Решение должно опираться на использования функционала библиотеки `numpy`."
      ]
    },
    {
      "cell_type": "markdown",
      "metadata": {
        "id": "QS0nbNbF0FeO"
      },
      "source": [
        "1. Файл `minutes_n_ingredients.csv` содержит информацию об идентификаторе рецепта, времени его выполнения в минутах и количестве необходимых ингредиентов. Считайте данные из этого файла в виде массива `numpy` типа `int32`, используя `np.loadtxt`. Выведите на экран первые 5 строк массива."
      ]
    },
    {
      "cell_type": "code",
      "source": [
        "data = np.loadtxt(\"./minutes_n_ingredients.csv\",dtype=int, delimiter=\",\", skiprows=1)\n",
        "print(data[:5])"
      ],
      "metadata": {
        "id": "qr9KSdEN9_Wt",
        "outputId": "90020202-fe82-440f-fae7-a84d223dc2b2",
        "colab": {
          "base_uri": "https://localhost:8080/"
        }
      },
      "execution_count": 19,
      "outputs": [
        {
          "output_type": "stream",
          "name": "stdout",
          "text": [
            "[[127244     60     16]\n",
            " [ 23891     25      7]\n",
            " [ 94746     10      6]\n",
            " [ 67660      5      6]\n",
            " [157911     60     14]]\n"
          ]
        }
      ]
    },
    {
      "cell_type": "markdown",
      "metadata": {
        "id": "B5hJrkIa0FeP"
      },
      "source": [
        "2. Вычислите среднее значение, минимум, максимум и медиану по каждому из столбцов, кроме первого."
      ]
    },
    {
      "cell_type": "code",
      "source": [
        "col = 1\n",
        "print(f\"Мин: {np.min(data[:, col])}\\nМакс:{np.max(data[:, col])}\\nМедиана:{np.median(data[:, col])}\\n\")\n",
        "\n",
        "col = 2\n",
        "print(f\"Мин: {np.min(data[:, col])}\\nМакс:{np.max(data[:, col])}\\nМедиана:{np.median(data[:, col])}\\n\")\n",
        "          \n",
        "print(f\"Мин: {np.min(data[:, 1:], axis=0)}\\nМакс:{np.max(data[:, 1:], axis=0)}\\nМедиана:{np.median(data[:, 1:], axis=0)}\\n\")"
      ],
      "metadata": {
        "id": "d89uncBbASyl",
        "outputId": "39c8aecc-6022-4f12-f91e-510a1fbc632b",
        "colab": {
          "base_uri": "https://localhost:8080/"
        }
      },
      "execution_count": 20,
      "outputs": [
        {
          "output_type": "stream",
          "name": "stdout",
          "text": [
            "Мин: 0\n",
            "Макс:2147483647\n",
            "Медиана:40.0\n",
            "\n",
            "Мин: 1\n",
            "Макс:39\n",
            "Медиана:9.0\n",
            "\n",
            "Мин: [0 1]\n",
            "Макс:[2147483647         39]\n",
            "Медиана:[40.  9.]\n",
            "\n"
          ]
        }
      ]
    },
    {
      "cell_type": "markdown",
      "metadata": {
        "id": "5KSfiRP30FeP"
      },
      "source": [
        "3. Ограничьте сверху значения продолжительности выполнения рецепта значением квантиля $q_{0.75}$. "
      ]
    },
    {
      "cell_type": "code",
      "source": [
        "quant_value = 0.75\n",
        "koshkas = np.quantile(data[:,1], quant_value)\n",
        "mask = data[:,1] <= koshkas\n",
        "data[mask]"
      ],
      "metadata": {
        "id": "zAKfOn82CAQO",
        "outputId": "c28020f4-b339-4ac6-bec7-0cee338052a1",
        "colab": {
          "base_uri": "https://localhost:8080/"
        }
      },
      "execution_count": 21,
      "outputs": [
        {
          "output_type": "execute_result",
          "data": {
            "text/plain": [
              "array([[127244,     60,     16],\n",
              "       [ 23891,     25,      7],\n",
              "       [ 94746,     10,      6],\n",
              "       ...,\n",
              "       [ 43407,     35,      7],\n",
              "       [498432,     65,     15],\n",
              "       [370915,      5,      4]])"
            ]
          },
          "metadata": {},
          "execution_count": 21
        }
      ]
    },
    {
      "cell_type": "markdown",
      "metadata": {
        "id": "q6VGqhvY0FeQ"
      },
      "source": [
        "4. Посчитайте, для скольких рецептов указана продолжительность, равная нулю. Замените для таких строк значение в данном столбце на 1."
      ]
    },
    {
      "cell_type": "code",
      "source": [
        "def counter(data: np.matrix) -> int:\n",
        "    mask = data[:, 1] == 0\n",
        "    return data[mask].shape[0], mask\n",
        "\n",
        "count, mask = counter(data)\n",
        "print(count)\n",
        "new_data = data.copy()\n",
        "print(new_data)\n",
        "new_data[mask, 1] = 1\n",
        "print(new_data)\n",
        "\n",
        "count, mask = counter(new_data)\n",
        "print(count)"
      ],
      "metadata": {
        "id": "lhgs1x82CKei",
        "outputId": "3ecdb121-20ee-4c48-fc96-51d98fb665de",
        "colab": {
          "base_uri": "https://localhost:8080/"
        }
      },
      "execution_count": 22,
      "outputs": [
        {
          "output_type": "stream",
          "name": "stdout",
          "text": [
            "479\n",
            "[[127244     60     16]\n",
            " [ 23891     25      7]\n",
            " [ 94746     10      6]\n",
            " ...\n",
            " [498432     65     15]\n",
            " [370915      5      4]\n",
            " [ 81993    140     14]]\n",
            "[[127244     60     16]\n",
            " [ 23891     25      7]\n",
            " [ 94746     10      6]\n",
            " ...\n",
            " [498432     65     15]\n",
            " [370915      5      4]\n",
            " [ 81993    140     14]]\n",
            "0\n"
          ]
        }
      ]
    },
    {
      "cell_type": "markdown",
      "metadata": {
        "id": "idX7y3C10FeQ"
      },
      "source": [
        "5. Посчитайте, сколько уникальных рецептов находится в датасете."
      ]
    },
    {
      "cell_type": "code",
      "source": [
        "print(new_data.shape)\n",
        "unique_rows = np.unique(new_data, axis=0)\n",
        "print(unique_rows.shape)"
      ],
      "metadata": {
        "id": "_NthmUM_CO7m",
        "outputId": "a0a07763-3839-40e5-f5bc-7ac97cf11422",
        "colab": {
          "base_uri": "https://localhost:8080/"
        }
      },
      "execution_count": 23,
      "outputs": [
        {
          "output_type": "stream",
          "name": "stdout",
          "text": [
            "(100000, 3)\n",
            "(100000, 3)\n"
          ]
        }
      ]
    },
    {
      "cell_type": "markdown",
      "metadata": {
        "id": "HPXTtTzg0FeQ"
      },
      "source": [
        "6. Сколько и каких различных значений кол-ва ингредиентов присутвует в рецептах из датасета?"
      ]
    },
    {
      "cell_type": "code",
      "source": [
        "unique, counts = np.unique(new_data[:, 2], return_counts=True)\n",
        "print(f\"Всего уникальных: {len(unique)}\")\n",
        "dict(zip(counts,unique))"
      ],
      "metadata": {
        "id": "WsssquYsCSRb",
        "outputId": "a1a071a7-c8d4-4d72-adad-2283c3925a7e",
        "colab": {
          "base_uri": "https://localhost:8080/"
        }
      },
      "execution_count": 24,
      "outputs": [
        {
          "output_type": "stream",
          "name": "stdout",
          "text": [
            "Всего уникальных: 37\n"
          ]
        },
        {
          "output_type": "execute_result",
          "data": {
            "text/plain": [
              "{13: 1,\n",
              " 926: 2,\n",
              " 2895: 3,\n",
              " 5515: 4,\n",
              " 7913: 5,\n",
              " 9376: 6,\n",
              " 10628: 7,\n",
              " 10951: 8,\n",
              " 10585: 9,\n",
              " 9591: 10,\n",
              " 8297: 11,\n",
              " 6605: 12,\n",
              " 4997: 13,\n",
              " 3663: 14,\n",
              " 2595: 15,\n",
              " 1767: 16,\n",
              " 1246: 17,\n",
              " 790: 18,\n",
              " 573: 19,\n",
              " 376: 20,\n",
              " 217: 21,\n",
              " 161: 22,\n",
              " 105: 23,\n",
              " 69: 24,\n",
              " 50: 25,\n",
              " 28: 26,\n",
              " 16: 28,\n",
              " 12: 30,\n",
              " 3: 35,\n",
              " 1: 39,\n",
              " 2: 33}"
            ]
          },
          "metadata": {},
          "execution_count": 24
        }
      ]
    },
    {
      "cell_type": "markdown",
      "metadata": {
        "id": "mStKHQ360FeR"
      },
      "source": [
        "7. Создайте версию массива, содержащую информацию только о рецептах, состоящих не более чем из 5 ингредиентов."
      ]
    },
    {
      "cell_type": "code",
      "source": [
        "print(new_data.shape)\n",
        "mask = new_data[:, 2] < 6\n",
        "array_7 = new_data[mask]\n",
        "print(array_7.shape)"
      ],
      "metadata": {
        "id": "nE0_6fJ2CVOX",
        "outputId": "92c17982-7eea-493f-e74c-c00e63618774",
        "colab": {
          "base_uri": "https://localhost:8080/"
        }
      },
      "execution_count": 25,
      "outputs": [
        {
          "output_type": "stream",
          "name": "stdout",
          "text": [
            "(100000, 3)\n",
            "(17262, 3)\n"
          ]
        }
      ]
    },
    {
      "cell_type": "markdown",
      "metadata": {
        "id": "MXQ0M3EY0FeR"
      },
      "source": [
        "8. Для каждого рецепта посчитайте, сколько в среднем ингредиентов приходится на одну минуту рецепта. Найдите максимальное значение этой величины для всего датасета"
      ]
    },
    {
      "cell_type": "code",
      "source": [
        "results = (new_data[:,2]/new_data[:,1])\n",
        "print(results)\n",
        "np.max(results)"
      ],
      "metadata": {
        "id": "ZMRgJ5J1CXDD",
        "outputId": "75172a47-19b8-4a1a-a57c-2c05a1415b1e",
        "colab": {
          "base_uri": "https://localhost:8080/"
        }
      },
      "execution_count": 26,
      "outputs": [
        {
          "output_type": "stream",
          "name": "stdout",
          "text": [
            "[0.26666667 0.28       0.6        ... 0.23076923 0.8        0.1       ]\n"
          ]
        },
        {
          "output_type": "execute_result",
          "data": {
            "text/plain": [
              "24.0"
            ]
          },
          "metadata": {},
          "execution_count": 26
        }
      ]
    },
    {
      "cell_type": "markdown",
      "metadata": {
        "id": "d6tsLbqU0FeR"
      },
      "source": [
        "9. Вычислите среднее количество ингредиентов для топ-100 рецептов с наибольшей продолжительностью"
      ]
    },
    {
      "cell_type": "code",
      "source": [
        "count =100\n",
        "buffer = np.copy(data[data[:, 1].argsort()][::-1])\n",
        "buffer = buffer[:count]\n",
        "np.sum(buffer[:,2])/count"
      ],
      "metadata": {
        "id": "I_v7vyrbCan4",
        "outputId": "bcedfd1e-585e-4ba7-d15b-b494c6ff7ff0",
        "colab": {
          "base_uri": "https://localhost:8080/"
        }
      },
      "execution_count": 27,
      "outputs": [
        {
          "output_type": "execute_result",
          "data": {
            "text/plain": [
              "6.61"
            ]
          },
          "metadata": {},
          "execution_count": 27
        }
      ]
    },
    {
      "cell_type": "markdown",
      "metadata": {
        "id": "F848GtJT0FeS"
      },
      "source": [
        "10. Выберите случайным образом и выведите информацию о 10 различных рецептах"
      ]
    },
    {
      "cell_type": "code",
      "source": [
        "data[np.random.randint(data.shape[0], size=10), :]"
      ],
      "metadata": {
        "id": "B_RwZ2K3ChBZ",
        "outputId": "93fd1dd2-af82-4ce9-d27a-fe3d3cdec715",
        "colab": {
          "base_uri": "https://localhost:8080/"
        }
      },
      "execution_count": 28,
      "outputs": [
        {
          "output_type": "execute_result",
          "data": {
            "text/plain": [
              "array([[121067,     10,      6],\n",
              "       [278632,     25,      8],\n",
              "       [260462,     60,      5],\n",
              "       [170430,     20,      8],\n",
              "       [261176,    190,     12],\n",
              "       [245095,     90,     13],\n",
              "       [344904,     20,     13],\n",
              "       [ 87125,     65,      6],\n",
              "       [271488,     50,     14],\n",
              "       [ 37388,     25,     13]])"
            ]
          },
          "metadata": {},
          "execution_count": 28
        }
      ]
    },
    {
      "cell_type": "markdown",
      "metadata": {
        "id": "BH4WkV0r0FeS"
      },
      "source": [
        "11. Выведите процент рецептов, кол-во ингредиентов в которых меньше среднего."
      ]
    },
    {
      "cell_type": "code",
      "source": [
        "current_mean = np.mean(new_data[:, 2])\n",
        "\n",
        "mask = new_data[:, 2] < current_mean\n",
        "result = new_data[mask]\n",
        "\n",
        "print(new_data.shape)\n",
        "print(result.shape)\n",
        "print(f\"{result.shape[0]*100/new_data.shape[0]}%\")"
      ],
      "metadata": {
        "id": "stE08MFlCkn4",
        "outputId": "4ec361df-0f6d-44fa-c221-b44699a4e61e",
        "colab": {
          "base_uri": "https://localhost:8080/"
        }
      },
      "execution_count": 29,
      "outputs": [
        {
          "output_type": "stream",
          "name": "stdout",
          "text": [
            "(100000, 3)\n",
            "(58802, 3)\n",
            "58.802%\n"
          ]
        }
      ]
    },
    {
      "cell_type": "markdown",
      "metadata": {
        "id": "LcruP_PK0FeT"
      },
      "source": [
        "12. Назовем \"простым\" такой рецепт, длительность выполнения которого не больше 20 минут и кол-во ингредиентов в котором не больше 5. Создайте версию датасета с дополнительным столбцом, значениями которого являются 1, если рецепт простой, и 0 в противном случае."
      ]
    },
    {
      "cell_type": "code",
      "source": [
        "is_simple_mask = (data[:, 1] < 21) & (data[:, 2] < 6)\n",
        "new_data = np.c_[data, is_simple_mask]\n",
        "new_data"
      ],
      "metadata": {
        "id": "82c80AwWCn2s",
        "outputId": "a7d51533-d991-4a8c-9aeb-f0739404a3dc",
        "colab": {
          "base_uri": "https://localhost:8080/"
        }
      },
      "execution_count": 31,
      "outputs": [
        {
          "output_type": "execute_result",
          "data": {
            "text/plain": [
              "array([[127244,     60,     16,      0],\n",
              "       [ 23891,     25,      7,      0],\n",
              "       [ 94746,     10,      6,      0],\n",
              "       ...,\n",
              "       [498432,     65,     15,      0],\n",
              "       [370915,      5,      4,      1],\n",
              "       [ 81993,    140,     14,      0]])"
            ]
          },
          "metadata": {},
          "execution_count": 31
        }
      ]
    },
    {
      "cell_type": "markdown",
      "metadata": {
        "id": "-qnvXSSn0FeT"
      },
      "source": [
        "13. Выведите процент \"простых\" рецептов в датасете"
      ]
    },
    {
      "cell_type": "code",
      "source": [
        "simple_count = new_data[new_data[:,3] == 1].shape[0]\n",
        "all_count = new_data.shape[0]\n",
        "print(simple_count)\n",
        "print(all_count)\n",
        "\n",
        "simple_count*100/all_count"
      ],
      "metadata": {
        "id": "FxsTm8eYCrNa",
        "outputId": "eba10976-66e1-4e40-e9dd-a4398cd5471c",
        "colab": {
          "base_uri": "https://localhost:8080/"
        }
      },
      "execution_count": 32,
      "outputs": [
        {
          "output_type": "stream",
          "name": "stdout",
          "text": [
            "9552\n",
            "100000\n"
          ]
        },
        {
          "output_type": "execute_result",
          "data": {
            "text/plain": [
              "9.552"
            ]
          },
          "metadata": {},
          "execution_count": 32
        }
      ]
    },
    {
      "cell_type": "markdown",
      "metadata": {
        "id": "LHEI9tMn0FeT"
      },
      "source": [
        "14. Разделим рецепты на группы по следующему правилу. Назовем рецепты короткими, если их продолжительность составляет менее 10 минут; стандартными, если их продолжительность составляет более 10, но менее 20 минут; и длинными, если их продолжительность составляет не менее 20 минут. Создайте трехмерный массив, где нулевая ось отвечает за номер группы (короткий, стандартный или длинный рецепт), первая ось - за сам рецепт и вторая ось - за характеристики рецепта. Выберите максимальное количество рецептов из каждой группы таким образом, чтобы было возможно сформировать трехмерный массив. Выведите форму полученного массива."
      ]
    },
    {
      "cell_type": "code",
      "execution_count": 33,
      "metadata": {
        "id": "DdJRtzX30FeU",
        "outputId": "9186e3e9-bfe6-45d0-b696-351a68f6decd",
        "colab": {
          "base_uri": "https://localhost:8080/"
        }
      },
      "outputs": [
        {
          "output_type": "stream",
          "name": "stdout",
          "text": [
            "[[[ 67660      5      6      0]\n",
            "  [366174      7      9      0]\n",
            "  [204134      5      3      1]\n",
            "  ...\n",
            "  [420725      5      3      1]\n",
            "  [  4747      0      9      0]\n",
            "  [370915      5      4      1]]\n",
            "\n",
            " [[ 94746     10      6      0]\n",
            "  [ 33941     18      9      0]\n",
            "  [446597     15      5      1]\n",
            "  ...\n",
            "  [  9831     15      7      0]\n",
            "  [335859     12     14      0]\n",
            "  [256812     10      3      1]]\n",
            "\n",
            " [[127244     60     16      0]\n",
            "  [ 23891     25      7      0]\n",
            "  [157911     60     14      0]\n",
            "  ...\n",
            "  [168901     25      7      0]\n",
            "  [392339     35     13      0]\n",
            "  [206732     45     10      0]]]\n"
          ]
        }
      ],
      "source": [
        "short_arr = new_data[new_data[:,1] < 10]\n",
        "mask = (new_data[:,1] >= 10) & (new_data[:,1] < 20)\n",
        "standard_arr = new_data[mask]\n",
        "long_arr = new_data[20 <= new_data[:,1]]\n",
        "\n",
        "crop_value = np.min([short_arr.shape[0], standard_arr.shape[0], long_arr.shape[0]])\n",
        "\n",
        "result_arr = np.array([short_arr[:crop_value], standard_arr[:crop_value], long_arr[:crop_value]])\n",
        "print(result_arr)"
      ]
    }
  ],
  "metadata": {
    "kernelspec": {
      "display_name": "Python 3",
      "language": "python",
      "name": "python3"
    },
    "language_info": {
      "codemirror_mode": {
        "name": "ipython",
        "version": 3
      },
      "file_extension": ".py",
      "mimetype": "text/x-python",
      "name": "python",
      "nbconvert_exporter": "python",
      "pygments_lexer": "ipython3",
      "version": "3.7.6"
    },
    "colab": {
      "provenance": []
    }
  },
  "nbformat": 4,
  "nbformat_minor": 0
}