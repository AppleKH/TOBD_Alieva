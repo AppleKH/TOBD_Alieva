{
  "cells": [
    {
      "cell_type": "markdown",
      "metadata": {
        "id": "BNr01s7VNocQ"
      },
      "source": [
        "# Работа с таблицами Excel"
      ]
    },
    {
      "cell_type": "markdown",
      "metadata": {
        "id": "LLHZChAfNocW"
      },
      "source": [
        "## Задачи для совместного разбора"
      ]
    },
    {
      "cell_type": "code",
      "execution_count": null,
      "metadata": {
        "id": "mIV3zPmmNocW"
      },
      "outputs": [],
      "source": [
        "import xlwings as xw\n",
        "import numpy as np"
      ]
    },
    {
      "cell_type": "markdown",
      "metadata": {
        "id": "QNmo8wBxNocY"
      },
      "source": [
        "1. На листе \"Рецептура\" файла `себестоимостьА_в1.xlsx` для области \"Пшеничный хлеб\" рассчитать себестоимость всех видов продукции."
      ]
    },
    {
      "cell_type": "code",
      "execution_count": null,
      "metadata": {
        "id": "1JIDPkL9NocY",
        "outputId": "456d577f-a102-4bcc-f9ec-0be221599f81"
      },
      "outputs": [
        {
          "data": {
            "text/plain": [
              "array([[0.2  , 0.4  , 0.02 , 0.02 , 0.01 , 0.005, 0.1  ,   nan,   nan],\n",
              "       [0.07 , 0.25 , 0.01 , 0.06 , 0.015,   nan, 0.06 , 0.05 ,   nan],\n",
              "       [0.12 , 0.22 , 0.005,   nan, 0.009, 0.005,   nan, 0.05 , 0.03 ],\n",
              "       [0.12 , 0.23 , 0.01 ,   nan, 0.015,   nan,   nan,   nan, 0.05 ]])"
            ]
          },
          "execution_count": 48,
          "metadata": {},
          "output_type": "execute_result"
        }
      ],
      "source": [
        "wb1 = xw.Book(\"./data/себестоимостьА_в1.xlsx\")\n",
        "\n",
        "sheet = wb1.sheets[\"Рецептура\"]\n",
        "\n",
        "consumption = sheet.range(\"G7:O10\").options(np.array).value\n",
        "consumption"
      ]
    },
    {
      "cell_type": "code",
      "execution_count": null,
      "metadata": {
        "id": "3rASCT_pNocb",
        "outputId": "9d4d2b00-21c7-4049-a61c-bf2306293fa3"
      },
      "outputs": [
        {
          "data": {
            "text/plain": [
              "array([  7.,  10., 184.,  19.,   7., 290., 105.,  83., 260.])"
            ]
          },
          "execution_count": 49,
          "metadata": {},
          "output_type": "execute_result"
        }
      ],
      "source": [
        "unit_price = sheet.range(\"G14:O14\").options(np.array).value\n",
        "unit_price"
      ]
    },
    {
      "cell_type": "code",
      "execution_count": null,
      "metadata": {
        "id": "z6PChNaZNocc",
        "outputId": "7b5f7381-a9e8-4191-df4e-6f0ea11b92c7"
      },
      "outputs": [
        {
          "data": {
            "text/plain": [
              "array([21.48 , 16.525, 17.423, 18.085])"
            ]
          },
          "execution_count": 50,
          "metadata": {},
          "output_type": "execute_result"
        }
      ],
      "source": [
        "cost_price = np.nan_to_num(consumption * unit_price).sum(axis=1)\n",
        "cost_price"
      ]
    },
    {
      "cell_type": "markdown",
      "metadata": {
        "id": "VPz_SWajNocc"
      },
      "source": [
        "2. Результаты расчетов 1.1 сохранить в отдельном столбце области \"Пшеничный хлеб\""
      ]
    },
    {
      "cell_type": "code",
      "execution_count": null,
      "metadata": {
        "id": "yVVf60TpNocd"
      },
      "outputs": [],
      "source": [
        "sheet.range(\"T7:T10\").options(transpose=True).value = cost_price\n",
        "sheet.range(\"T6\").value = \"Себестоимость\""
      ]
    },
    {
      "cell_type": "markdown",
      "metadata": {
        "id": "HzrOjrYRNocd"
      },
      "source": [
        "## Лабораторная работа 8.1"
      ]
    },
    {
      "cell_type": "markdown",
      "metadata": {
        "id": "QztRj5xbNoce"
      },
      "source": [
        "1. Загрузите данные из файлов `reviews_sample.csv` (__ЛР2__) и `recipes_sample.csv` (__ЛР5__) в виде `pd.DataFrame`. Обратите внимание на корректное считывание столбца(ов) с индексами. Оставьте в таблице с рецептами следующие столбцы: `id`, `name`, `minutes`, `submitted`, `description`, `n_ingredients`"
      ]
    },
    {
      "cell_type": "code",
      "execution_count": null,
      "metadata": {
        "id": "RZlXCWIiNoce",
        "outputId": "d7f9675e-92a3-4df8-f2c7-78a78ebb12a9"
      },
      "outputs": [
        {
          "data": {
            "text/html": [
              "<div>\n",
              "<style scoped>\n",
              "    .dataframe tbody tr th:only-of-type {\n",
              "        vertical-align: middle;\n",
              "    }\n",
              "\n",
              "    .dataframe tbody tr th {\n",
              "        vertical-align: top;\n",
              "    }\n",
              "\n",
              "    .dataframe thead th {\n",
              "        text-align: right;\n",
              "    }\n",
              "</style>\n",
              "<table border=\"1\" class=\"dataframe\">\n",
              "  <thead>\n",
              "    <tr style=\"text-align: right;\">\n",
              "      <th></th>\n",
              "      <th>user_id</th>\n",
              "      <th>recipe_id</th>\n",
              "      <th>date</th>\n",
              "      <th>rating</th>\n",
              "      <th>review</th>\n",
              "    </tr>\n",
              "    <tr>\n",
              "      <th>index</th>\n",
              "      <th></th>\n",
              "      <th></th>\n",
              "      <th></th>\n",
              "      <th></th>\n",
              "      <th></th>\n",
              "    </tr>\n",
              "  </thead>\n",
              "  <tbody>\n",
              "    <tr>\n",
              "      <th>370476</th>\n",
              "      <td>21752</td>\n",
              "      <td>57993</td>\n",
              "      <td>2003-05-01</td>\n",
              "      <td>5</td>\n",
              "      <td>Last week whole sides of frozen salmon fillet ...</td>\n",
              "    </tr>\n",
              "    <tr>\n",
              "      <th>624300</th>\n",
              "      <td>431813</td>\n",
              "      <td>142201</td>\n",
              "      <td>2007-09-16</td>\n",
              "      <td>5</td>\n",
              "      <td>So simple and so tasty!  I used a yellow capsi...</td>\n",
              "    </tr>\n",
              "    <tr>\n",
              "      <th>187037</th>\n",
              "      <td>400708</td>\n",
              "      <td>252013</td>\n",
              "      <td>2008-01-10</td>\n",
              "      <td>4</td>\n",
              "      <td>Very nice breakfast HH, easy to make and yummy...</td>\n",
              "    </tr>\n",
              "    <tr>\n",
              "      <th>706134</th>\n",
              "      <td>2001852463</td>\n",
              "      <td>404716</td>\n",
              "      <td>2017-12-11</td>\n",
              "      <td>5</td>\n",
              "      <td>These are a favorite for the holidays and so e...</td>\n",
              "    </tr>\n",
              "    <tr>\n",
              "      <th>312179</th>\n",
              "      <td>95810</td>\n",
              "      <td>129396</td>\n",
              "      <td>2008-03-14</td>\n",
              "      <td>5</td>\n",
              "      <td>Excellent soup!  The tomato flavor is just gre...</td>\n",
              "    </tr>\n",
              "    <tr>\n",
              "      <th>...</th>\n",
              "      <td>...</td>\n",
              "      <td>...</td>\n",
              "      <td>...</td>\n",
              "      <td>...</td>\n",
              "      <td>...</td>\n",
              "    </tr>\n",
              "    <tr>\n",
              "      <th>1013457</th>\n",
              "      <td>1270706</td>\n",
              "      <td>335534</td>\n",
              "      <td>2009-05-17</td>\n",
              "      <td>4</td>\n",
              "      <td>This recipe was great! I made it last night. I...</td>\n",
              "    </tr>\n",
              "    <tr>\n",
              "      <th>158736</th>\n",
              "      <td>2282344</td>\n",
              "      <td>8701</td>\n",
              "      <td>2012-06-03</td>\n",
              "      <td>0</td>\n",
              "      <td>This recipe is outstanding. I followed the rec...</td>\n",
              "    </tr>\n",
              "    <tr>\n",
              "      <th>1059834</th>\n",
              "      <td>689540</td>\n",
              "      <td>222001</td>\n",
              "      <td>2008-04-08</td>\n",
              "      <td>5</td>\n",
              "      <td>Well, we were not a crowd but it was a fabulou...</td>\n",
              "    </tr>\n",
              "    <tr>\n",
              "      <th>453285</th>\n",
              "      <td>2000242659</td>\n",
              "      <td>354979</td>\n",
              "      <td>2015-06-02</td>\n",
              "      <td>5</td>\n",
              "      <td>I have been a steak eater and dedicated BBQ gr...</td>\n",
              "    </tr>\n",
              "    <tr>\n",
              "      <th>691207</th>\n",
              "      <td>463435</td>\n",
              "      <td>415599</td>\n",
              "      <td>2010-09-30</td>\n",
              "      <td>5</td>\n",
              "      <td>Wonderful and simple to prepare seasoning blen...</td>\n",
              "    </tr>\n",
              "  </tbody>\n",
              "</table>\n",
              "<p>126696 rows × 5 columns</p>\n",
              "</div>"
            ],
            "text/plain": [
              "            user_id  recipe_id       date  rating  \\\n",
              "index                                               \n",
              "370476        21752      57993 2003-05-01       5   \n",
              "624300       431813     142201 2007-09-16       5   \n",
              "187037       400708     252013 2008-01-10       4   \n",
              "706134   2001852463     404716 2017-12-11       5   \n",
              "312179        95810     129396 2008-03-14       5   \n",
              "...             ...        ...        ...     ...   \n",
              "1013457     1270706     335534 2009-05-17       4   \n",
              "158736      2282344       8701 2012-06-03       0   \n",
              "1059834      689540     222001 2008-04-08       5   \n",
              "453285   2000242659     354979 2015-06-02       5   \n",
              "691207       463435     415599 2010-09-30       5   \n",
              "\n",
              "                                                    review  \n",
              "index                                                       \n",
              "370476   Last week whole sides of frozen salmon fillet ...  \n",
              "624300   So simple and so tasty!  I used a yellow capsi...  \n",
              "187037   Very nice breakfast HH, easy to make and yummy...  \n",
              "706134   These are a favorite for the holidays and so e...  \n",
              "312179   Excellent soup!  The tomato flavor is just gre...  \n",
              "...                                                    ...  \n",
              "1013457  This recipe was great! I made it last night. I...  \n",
              "158736   This recipe is outstanding. I followed the rec...  \n",
              "1059834  Well, we were not a crowd but it was a fabulou...  \n",
              "453285   I have been a steak eater and dedicated BBQ gr...  \n",
              "691207   Wonderful and simple to prepare seasoning blen...  \n",
              "\n",
              "[126696 rows x 5 columns]"
            ]
          },
          "execution_count": 52,
          "metadata": {},
          "output_type": "execute_result"
        }
      ],
      "source": [
        "import pandas as pd\n",
        "\n",
        "reviews_sample = pd.read_csv(\"./data/reviews_sample.csv\", sep=\",\", parse_dates=['date'])\n",
        "reviews_sample = reviews_sample.rename(columns={\"Unnamed: 0\": \"index\"})\n",
        "reviews_sample = reviews_sample.set_index(\"index\")\n",
        "reviews_sample"
      ]
    },
    {
      "cell_type": "code",
      "execution_count": null,
      "metadata": {
        "id": "GPRC139tNocf",
        "outputId": "4f054be1-4acd-4ed6-e45d-476574f85e07"
      },
      "outputs": [
        {
          "data": {
            "text/html": [
              "<div>\n",
              "<style scoped>\n",
              "    .dataframe tbody tr th:only-of-type {\n",
              "        vertical-align: middle;\n",
              "    }\n",
              "\n",
              "    .dataframe tbody tr th {\n",
              "        vertical-align: top;\n",
              "    }\n",
              "\n",
              "    .dataframe thead th {\n",
              "        text-align: right;\n",
              "    }\n",
              "</style>\n",
              "<table border=\"1\" class=\"dataframe\">\n",
              "  <thead>\n",
              "    <tr style=\"text-align: right;\">\n",
              "      <th></th>\n",
              "      <th>name</th>\n",
              "      <th>id</th>\n",
              "      <th>minutes</th>\n",
              "      <th>contributor_id</th>\n",
              "      <th>submitted</th>\n",
              "      <th>n_steps</th>\n",
              "      <th>description</th>\n",
              "      <th>n_ingredients</th>\n",
              "    </tr>\n",
              "  </thead>\n",
              "  <tbody>\n",
              "    <tr>\n",
              "      <th>0</th>\n",
              "      <td>george s at the cove  black bean soup</td>\n",
              "      <td>44123</td>\n",
              "      <td>90</td>\n",
              "      <td>35193</td>\n",
              "      <td>2002-10-25</td>\n",
              "      <td>NaN</td>\n",
              "      <td>an original recipe created by chef scott meska...</td>\n",
              "      <td>18.0</td>\n",
              "    </tr>\n",
              "    <tr>\n",
              "      <th>1</th>\n",
              "      <td>healthy for them  yogurt popsicles</td>\n",
              "      <td>67664</td>\n",
              "      <td>10</td>\n",
              "      <td>91970</td>\n",
              "      <td>2003-07-26</td>\n",
              "      <td>NaN</td>\n",
              "      <td>my children and their friends ask for my homem...</td>\n",
              "      <td>NaN</td>\n",
              "    </tr>\n",
              "    <tr>\n",
              "      <th>2</th>\n",
              "      <td>i can t believe it s spinach</td>\n",
              "      <td>38798</td>\n",
              "      <td>30</td>\n",
              "      <td>1533</td>\n",
              "      <td>2002-08-29</td>\n",
              "      <td>NaN</td>\n",
              "      <td>these were so go, it surprised even me.</td>\n",
              "      <td>8.0</td>\n",
              "    </tr>\n",
              "    <tr>\n",
              "      <th>3</th>\n",
              "      <td>italian  gut busters</td>\n",
              "      <td>35173</td>\n",
              "      <td>45</td>\n",
              "      <td>22724</td>\n",
              "      <td>2002-07-27</td>\n",
              "      <td>NaN</td>\n",
              "      <td>my sister-in-law made these for us at a family...</td>\n",
              "      <td>NaN</td>\n",
              "    </tr>\n",
              "    <tr>\n",
              "      <th>4</th>\n",
              "      <td>love is in the air  beef fondue   sauces</td>\n",
              "      <td>84797</td>\n",
              "      <td>25</td>\n",
              "      <td>4470</td>\n",
              "      <td>2004-02-23</td>\n",
              "      <td>4.0</td>\n",
              "      <td>i think a fondue is a very romantic casual din...</td>\n",
              "      <td>NaN</td>\n",
              "    </tr>\n",
              "    <tr>\n",
              "      <th>...</th>\n",
              "      <td>...</td>\n",
              "      <td>...</td>\n",
              "      <td>...</td>\n",
              "      <td>...</td>\n",
              "      <td>...</td>\n",
              "      <td>...</td>\n",
              "      <td>...</td>\n",
              "      <td>...</td>\n",
              "    </tr>\n",
              "    <tr>\n",
              "      <th>29995</th>\n",
              "      <td>zurie s holey rustic olive and cheddar bread</td>\n",
              "      <td>267661</td>\n",
              "      <td>80</td>\n",
              "      <td>200862</td>\n",
              "      <td>2007-11-25</td>\n",
              "      <td>16.0</td>\n",
              "      <td>this is based on a french recipe but i changed...</td>\n",
              "      <td>10.0</td>\n",
              "    </tr>\n",
              "    <tr>\n",
              "      <th>29996</th>\n",
              "      <td>zwetschgenkuchen  bavarian plum cake</td>\n",
              "      <td>386977</td>\n",
              "      <td>240</td>\n",
              "      <td>177443</td>\n",
              "      <td>2009-08-24</td>\n",
              "      <td>NaN</td>\n",
              "      <td>this is a traditional fresh plum cake, thought...</td>\n",
              "      <td>11.0</td>\n",
              "    </tr>\n",
              "    <tr>\n",
              "      <th>29997</th>\n",
              "      <td>zwiebelkuchen   southwest german onion cake</td>\n",
              "      <td>103312</td>\n",
              "      <td>75</td>\n",
              "      <td>161745</td>\n",
              "      <td>2004-11-03</td>\n",
              "      <td>NaN</td>\n",
              "      <td>this is a traditional late summer early fall s...</td>\n",
              "      <td>NaN</td>\n",
              "    </tr>\n",
              "    <tr>\n",
              "      <th>29998</th>\n",
              "      <td>zydeco soup</td>\n",
              "      <td>486161</td>\n",
              "      <td>60</td>\n",
              "      <td>227978</td>\n",
              "      <td>2012-08-29</td>\n",
              "      <td>NaN</td>\n",
              "      <td>this is a delicious soup that i originally fou...</td>\n",
              "      <td>NaN</td>\n",
              "    </tr>\n",
              "    <tr>\n",
              "      <th>29999</th>\n",
              "      <td>cookies by design   cookies on a stick</td>\n",
              "      <td>298512</td>\n",
              "      <td>29</td>\n",
              "      <td>506822</td>\n",
              "      <td>2008-04-15</td>\n",
              "      <td>9.0</td>\n",
              "      <td>i've heard of the 'cookies by design' company,...</td>\n",
              "      <td>10.0</td>\n",
              "    </tr>\n",
              "  </tbody>\n",
              "</table>\n",
              "<p>30000 rows × 8 columns</p>\n",
              "</div>"
            ],
            "text/plain": [
              "                                               name      id  minutes  \\\n",
              "0             george s at the cove  black bean soup   44123       90   \n",
              "1                healthy for them  yogurt popsicles   67664       10   \n",
              "2                      i can t believe it s spinach   38798       30   \n",
              "3                              italian  gut busters   35173       45   \n",
              "4          love is in the air  beef fondue   sauces   84797       25   \n",
              "...                                             ...     ...      ...   \n",
              "29995  zurie s holey rustic olive and cheddar bread  267661       80   \n",
              "29996          zwetschgenkuchen  bavarian plum cake  386977      240   \n",
              "29997   zwiebelkuchen   southwest german onion cake  103312       75   \n",
              "29998                                   zydeco soup  486161       60   \n",
              "29999        cookies by design   cookies on a stick  298512       29   \n",
              "\n",
              "       contributor_id  submitted  n_steps  \\\n",
              "0               35193 2002-10-25      NaN   \n",
              "1               91970 2003-07-26      NaN   \n",
              "2                1533 2002-08-29      NaN   \n",
              "3               22724 2002-07-27      NaN   \n",
              "4                4470 2004-02-23      4.0   \n",
              "...               ...        ...      ...   \n",
              "29995          200862 2007-11-25     16.0   \n",
              "29996          177443 2009-08-24      NaN   \n",
              "29997          161745 2004-11-03      NaN   \n",
              "29998          227978 2012-08-29      NaN   \n",
              "29999          506822 2008-04-15      9.0   \n",
              "\n",
              "                                             description  n_ingredients  \n",
              "0      an original recipe created by chef scott meska...           18.0  \n",
              "1      my children and their friends ask for my homem...            NaN  \n",
              "2                these were so go, it surprised even me.            8.0  \n",
              "3      my sister-in-law made these for us at a family...            NaN  \n",
              "4      i think a fondue is a very romantic casual din...            NaN  \n",
              "...                                                  ...            ...  \n",
              "29995  this is based on a french recipe but i changed...           10.0  \n",
              "29996  this is a traditional fresh plum cake, thought...           11.0  \n",
              "29997  this is a traditional late summer early fall s...            NaN  \n",
              "29998  this is a delicious soup that i originally fou...            NaN  \n",
              "29999  i've heard of the 'cookies by design' company,...           10.0  \n",
              "\n",
              "[30000 rows x 8 columns]"
            ]
          },
          "execution_count": 53,
          "metadata": {},
          "output_type": "execute_result"
        }
      ],
      "source": [
        "recipes_sample_with_tags_ingredients = pd.read_csv(\"./data/recipes_sample.csv\", sep=\",\", parse_dates=['submitted'])\n",
        "recipes_sample_with_tags_ingredients = recipes_sample_with_tags_ingredients.rename(columns={\"Unnamed: 0\": \"index\"})\n",
        "#recipes_sample_with_tags_ingredients = recipes_sample_with_tags_ingredients.set_index(\"index\")\n",
        "recipes_sample_with_tags_ingredients"
      ]
    },
    {
      "cell_type": "code",
      "execution_count": null,
      "metadata": {
        "id": "jrVq35EpNocg",
        "outputId": "d40b388f-2728-48f7-88ad-d4bee17b9aee"
      },
      "outputs": [
        {
          "data": {
            "text/html": [
              "<div>\n",
              "<style scoped>\n",
              "    .dataframe tbody tr th:only-of-type {\n",
              "        vertical-align: middle;\n",
              "    }\n",
              "\n",
              "    .dataframe tbody tr th {\n",
              "        vertical-align: top;\n",
              "    }\n",
              "\n",
              "    .dataframe thead th {\n",
              "        text-align: right;\n",
              "    }\n",
              "</style>\n",
              "<table border=\"1\" class=\"dataframe\">\n",
              "  <thead>\n",
              "    <tr style=\"text-align: right;\">\n",
              "      <th></th>\n",
              "      <th>name</th>\n",
              "      <th>id</th>\n",
              "      <th>minutes</th>\n",
              "      <th>submitted</th>\n",
              "      <th>description</th>\n",
              "      <th>n_ingredients</th>\n",
              "    </tr>\n",
              "  </thead>\n",
              "  <tbody>\n",
              "    <tr>\n",
              "      <th>0</th>\n",
              "      <td>george s at the cove  black bean soup</td>\n",
              "      <td>44123</td>\n",
              "      <td>90</td>\n",
              "      <td>2002-10-25</td>\n",
              "      <td>an original recipe created by chef scott meska...</td>\n",
              "      <td>18.0</td>\n",
              "    </tr>\n",
              "    <tr>\n",
              "      <th>1</th>\n",
              "      <td>healthy for them  yogurt popsicles</td>\n",
              "      <td>67664</td>\n",
              "      <td>10</td>\n",
              "      <td>2003-07-26</td>\n",
              "      <td>my children and their friends ask for my homem...</td>\n",
              "      <td>NaN</td>\n",
              "    </tr>\n",
              "    <tr>\n",
              "      <th>2</th>\n",
              "      <td>i can t believe it s spinach</td>\n",
              "      <td>38798</td>\n",
              "      <td>30</td>\n",
              "      <td>2002-08-29</td>\n",
              "      <td>these were so go, it surprised even me.</td>\n",
              "      <td>8.0</td>\n",
              "    </tr>\n",
              "    <tr>\n",
              "      <th>3</th>\n",
              "      <td>italian  gut busters</td>\n",
              "      <td>35173</td>\n",
              "      <td>45</td>\n",
              "      <td>2002-07-27</td>\n",
              "      <td>my sister-in-law made these for us at a family...</td>\n",
              "      <td>NaN</td>\n",
              "    </tr>\n",
              "    <tr>\n",
              "      <th>4</th>\n",
              "      <td>love is in the air  beef fondue   sauces</td>\n",
              "      <td>84797</td>\n",
              "      <td>25</td>\n",
              "      <td>2004-02-23</td>\n",
              "      <td>i think a fondue is a very romantic casual din...</td>\n",
              "      <td>NaN</td>\n",
              "    </tr>\n",
              "    <tr>\n",
              "      <th>...</th>\n",
              "      <td>...</td>\n",
              "      <td>...</td>\n",
              "      <td>...</td>\n",
              "      <td>...</td>\n",
              "      <td>...</td>\n",
              "      <td>...</td>\n",
              "    </tr>\n",
              "    <tr>\n",
              "      <th>29995</th>\n",
              "      <td>zurie s holey rustic olive and cheddar bread</td>\n",
              "      <td>267661</td>\n",
              "      <td>80</td>\n",
              "      <td>2007-11-25</td>\n",
              "      <td>this is based on a french recipe but i changed...</td>\n",
              "      <td>10.0</td>\n",
              "    </tr>\n",
              "    <tr>\n",
              "      <th>29996</th>\n",
              "      <td>zwetschgenkuchen  bavarian plum cake</td>\n",
              "      <td>386977</td>\n",
              "      <td>240</td>\n",
              "      <td>2009-08-24</td>\n",
              "      <td>this is a traditional fresh plum cake, thought...</td>\n",
              "      <td>11.0</td>\n",
              "    </tr>\n",
              "    <tr>\n",
              "      <th>29997</th>\n",
              "      <td>zwiebelkuchen   southwest german onion cake</td>\n",
              "      <td>103312</td>\n",
              "      <td>75</td>\n",
              "      <td>2004-11-03</td>\n",
              "      <td>this is a traditional late summer early fall s...</td>\n",
              "      <td>NaN</td>\n",
              "    </tr>\n",
              "    <tr>\n",
              "      <th>29998</th>\n",
              "      <td>zydeco soup</td>\n",
              "      <td>486161</td>\n",
              "      <td>60</td>\n",
              "      <td>2012-08-29</td>\n",
              "      <td>this is a delicious soup that i originally fou...</td>\n",
              "      <td>NaN</td>\n",
              "    </tr>\n",
              "    <tr>\n",
              "      <th>29999</th>\n",
              "      <td>cookies by design   cookies on a stick</td>\n",
              "      <td>298512</td>\n",
              "      <td>29</td>\n",
              "      <td>2008-04-15</td>\n",
              "      <td>i've heard of the 'cookies by design' company,...</td>\n",
              "      <td>10.0</td>\n",
              "    </tr>\n",
              "  </tbody>\n",
              "</table>\n",
              "<p>30000 rows × 6 columns</p>\n",
              "</div>"
            ],
            "text/plain": [
              "                                               name      id  minutes  \\\n",
              "0             george s at the cove  black bean soup   44123       90   \n",
              "1                healthy for them  yogurt popsicles   67664       10   \n",
              "2                      i can t believe it s spinach   38798       30   \n",
              "3                              italian  gut busters   35173       45   \n",
              "4          love is in the air  beef fondue   sauces   84797       25   \n",
              "...                                             ...     ...      ...   \n",
              "29995  zurie s holey rustic olive and cheddar bread  267661       80   \n",
              "29996          zwetschgenkuchen  bavarian plum cake  386977      240   \n",
              "29997   zwiebelkuchen   southwest german onion cake  103312       75   \n",
              "29998                                   zydeco soup  486161       60   \n",
              "29999        cookies by design   cookies on a stick  298512       29   \n",
              "\n",
              "       submitted                                        description  \\\n",
              "0     2002-10-25  an original recipe created by chef scott meska...   \n",
              "1     2003-07-26  my children and their friends ask for my homem...   \n",
              "2     2002-08-29            these were so go, it surprised even me.   \n",
              "3     2002-07-27  my sister-in-law made these for us at a family...   \n",
              "4     2004-02-23  i think a fondue is a very romantic casual din...   \n",
              "...          ...                                                ...   \n",
              "29995 2007-11-25  this is based on a french recipe but i changed...   \n",
              "29996 2009-08-24  this is a traditional fresh plum cake, thought...   \n",
              "29997 2004-11-03  this is a traditional late summer early fall s...   \n",
              "29998 2012-08-29  this is a delicious soup that i originally fou...   \n",
              "29999 2008-04-15  i've heard of the 'cookies by design' company,...   \n",
              "\n",
              "       n_ingredients  \n",
              "0               18.0  \n",
              "1                NaN  \n",
              "2                8.0  \n",
              "3                NaN  \n",
              "4                NaN  \n",
              "...              ...  \n",
              "29995           10.0  \n",
              "29996           11.0  \n",
              "29997            NaN  \n",
              "29998            NaN  \n",
              "29999           10.0  \n",
              "\n",
              "[30000 rows x 6 columns]"
            ]
          },
          "execution_count": 54,
          "metadata": {},
          "output_type": "execute_result"
        }
      ],
      "source": [
        "recipes_sample_with_tags_ingredients.drop([\"contributor_id\", \"n_steps\"], axis=1, inplace=True)\n",
        "recipes_sample_with_tags_ingredients"
      ]
    },
    {
      "cell_type": "markdown",
      "metadata": {
        "id": "9VAJjc3sNoch"
      },
      "source": [
        "2. Случайным образом выберите 5% строк из каждой таблицы и сохраните две таблицы на разные листы в один файл `recipes.xlsx`. Дайте листам названия \"Рецепты\" и \"Отзывы\", соответствующие содержанию таблиц. "
      ]
    },
    {
      "cell_type": "code",
      "execution_count": null,
      "metadata": {
        "id": "x-nTVSVzNoci"
      },
      "outputs": [],
      "source": [
        "path = \"recipes.xlsx\"\n",
        "coeff = 0.05\n",
        "writer = pd.ExcelWriter(path)\n",
        "new_recipes = recipes_sample_with_tags_ingredients.sample(frac = coeff) \n",
        "wb1.sheets.add(name=\"Рецепты\", after=wb1.sheets[0].name).range('A1').value=new_recipes\n",
        "\n",
        "new_reviews = reviews_sample.sample(frac = coeff)\n",
        "wb1.sheets.add(name=\"Отзывы\", after=\"Рецепты\").range('A1').value=new_reviews\n",
        "\n"
      ]
    },
    {
      "cell_type": "markdown",
      "metadata": {
        "id": "KTOU6Ze3Nocj"
      },
      "source": [
        "3. Используя `xlwings`, добавьте на лист `Рецепты` столбец `seconds_assign`, показывающий время выполнения рецепта в секундах. Выполните задание при помощи присваивания массива значений диапазону ячеек."
      ]
    },
    {
      "cell_type": "code",
      "execution_count": null,
      "metadata": {
        "id": "G2vulwH9Nocj"
      },
      "outputs": [],
      "source": [
        "new_recipes[\"seconds_assign\"]=new_recipes['minutes']*60\n",
        "wb1.sheets['Рецепты'].range(chr(new_recipes.shape[1]+97).title()+'1').options(index=False).value=new_recipes[\"seconds_assign\"] "
      ]
    },
    {
      "cell_type": "markdown",
      "metadata": {
        "id": "oMrURF_lNock"
      },
      "source": [
        "4. Используя `xlwings`, добавьте на лист `Рецепты` столбец `seconds_formula`, показывающий время выполнения рецепта в секундах. Выполните задание при помощи формул Excel."
      ]
    },
    {
      "cell_type": "code",
      "execution_count": null,
      "metadata": {
        "id": "RzCfNmn4Nock"
      },
      "outputs": [],
      "source": [
        "r=new_recipes.shape[1]+2\n",
        "wb1.sheets['Рецепты'].range(1,r).value='seconds_formula'\n",
        "fml = wb1.sheets['Рецепты'].range(2,r).formula='=$D2*60'\n",
        "wb1.sheets['Рецепты'].range((2,r), (new_recipes.shape[0]+1,r)).formula=fml"
      ]
    },
    {
      "cell_type": "markdown",
      "metadata": {
        "id": "NB3hyA-WNocl"
      },
      "source": [
        "5. Сделайте названия всех добавленных столбцов полужирными и выровняйте по центру ячейки."
      ]
    },
    {
      "cell_type": "code",
      "execution_count": null,
      "metadata": {
        "id": "Ob2rxydFNocl"
      },
      "outputs": [],
      "source": [
        "wb1.sheets['Рецепты'].range((1,new_recipes.shape[1]+1),(1,new_recipes.shape[1]+2)).api.Font.Bold = True\n",
        "wb1.sheets['Рецепты'].range((1,new_recipes.shape[1]+1),(1,new_recipes.shape[1]+2)).api.HorizontalAlignment =  xw.constants.HAlign.xlHAlignCenter"
      ]
    },
    {
      "cell_type": "markdown",
      "metadata": {
        "id": "BmPhgILDNocm"
      },
      "source": [
        "6. Раскрасьте ячейки столбца `minutes` в соответствии со следующим правилом: если рецепт выполняется быстрее 5 минут, то цвет - зеленый; от 5 до 10 минут - жёлтый; и больше 10 - красный."
      ]
    },
    {
      "cell_type": "code",
      "execution_count": null,
      "metadata": {
        "id": "qbiBoipdNocm"
      },
      "outputs": [],
      "source": [
        "from enum import Enum\n",
        "\n",
        "class Colors(Enum):\n",
        "    GREEN = (0, 255, 0)\n",
        "    YELLOW = (255, 255, 0) \n",
        "    RED = (255, 0, 0)\n",
        "values = wb1.sheets['Рецепты'].range(\"D2:D1501\").value\n",
        "\n",
        "for i in range(len(values)):\n",
        "    \n",
        "    if values[i] <= 5:\n",
        "        wb1.sheets['Рецепты'].range(f\"D{i+2}\").color = Colors.GREEN.value\n",
        "    \n",
        "    elif 5 < values[i] <= 10:\n",
        "        wb1.sheets['Рецепты'].range(f\"D{i+2}\").color = Colors.YELLOW.value\n",
        "    \n",
        "    else:\n",
        "        wb1.sheets['Рецепты'].range(f\"D{i+2}\").color =  Colors.RED.value"
      ]
    },
    {
      "cell_type": "markdown",
      "metadata": {
        "id": "E0L_qPZHNocn"
      },
      "source": [
        "7. Добавьте на лист `Рецепты`  столбец `n_reviews`, содержащий кол-во отзывов для этого рецепта. Выполните задание при помощи формул Excel."
      ]
    },
    {
      "cell_type": "code",
      "execution_count": null,
      "metadata": {
        "id": "FI5rphNJNocn",
        "outputId": "8c465e6a-fd90-45cb-d430-52b7b96bdaee"
      },
      "outputs": [
        {
          "data": {
            "text/plain": [
              "True"
            ]
          },
          "execution_count": 60,
          "metadata": {},
          "output_type": "execute_result"
        }
      ],
      "source": [
        "from xlwings.constants import AutoFillType\n",
        "\n",
        "wb1.sheets['Рецепты'].range(\"J1\").value = \"n_reviews\"\n",
        "#sheet.range(\"J1\").api.font_object.font_style.set('bold')\n",
        "\n",
        "n = str(len(new_reviews) + 1)\n",
        "wb1.sheets['Рецепты'].range(\"J2\").formula = f'=COUNTIF(Отзывы!$C$2:$C${n}, \"=\"&С2)'\n",
        "wb1.sheets['Рецепты'].range('J2').api.autofill(wb1.sheets['Рецепты'].range(\"J2:J1501\").api, AutoFillType.xlFillDefault)"
      ]
    }
  ],
  "metadata": {
    "kernelspec": {
      "display_name": "Python 3",
      "language": "python",
      "name": "python3"
    },
    "colab": {
      "provenance": [],
      "collapsed_sections": []
    }
  },
  "nbformat": 4,
  "nbformat_minor": 0
}